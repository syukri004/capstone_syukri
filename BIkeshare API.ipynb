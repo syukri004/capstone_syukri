{
 "cells": [
  {
   "cell_type": "markdown",
   "id": "62480ff6-d08f-4fbf-b4b7-a4d272c75fcb",
   "metadata": {},
   "source": [
    "Import Libraries"
   ]
  },
  {
   "cell_type": "code",
   "execution_count": 39,
   "id": "ee5b7119-68ca-4c52-aef2-7e55ae1e7b0c",
   "metadata": {},
   "outputs": [],
   "source": [
    "import sqlite3\n",
    "import requests\n",
    "from tqdm import tqdm\n",
    "\n",
    "from flask import Flask, request\n",
    "import json \n",
    "import numpy as np\n",
    "import pandas as pd"
   ]
  },
  {
   "cell_type": "markdown",
   "id": "86774391-698b-41d4-a2fa-c9943a8e1ded",
   "metadata": {},
   "source": [
    "# Introduction\n",
    "In most cases when we are running a business, there are a lot of data stakeholder outside our company. The problem is that we need to provide the access in a way that they will not break our security rules or concerns. One way to solve that is by creating an API for the database. In this project, we will introduce you on how python is used for data transaction management using Flask API. \n",
    "\n",
    "**Usecase**: Bikeshare App\\\n",
    "Have you ever rent a bike for faster mobility in town? In the past few years, this business once become a phenomenom. In Indonesia, there are lots of similar services, for example, the Jakarta government's \"GOWES\" bike sharing service that launcehd in July 2020. \n",
    "\n",
    "For the user perspective, the general journey is denoted as follows:\n",
    "- User scan the bike located at some bike station, sending the data to database as the intent of \"start riding\"\n",
    "- Once user has reached its destination station, he/she put back the bike, sending the data again to the database as the intent of \"finished riding\"\n",
    "\n",
    "For each activity, there are data transactions between user and database. And how do you think each user's phone communicate with the server for storing and receiving the data? Using API ofcourse! \n",
    "\n",
    "We will later create a simplified version of the API service which handles data transactions and analysis. \n",
    "\n",
    "\n",
    "**Goals**: Make an API service to connect 3rd party user with data using HTTP request\n",
    "\n",
    "**End Product**: A Flask API which capable of doing: \n",
    "- Input new data to database\n",
    "- Read specific data from database\n",
    "- Get specific insight from data analysis process (ie: best performing stations)\n",
    "\n",
    "**Scoring Metrics**: \n",
    "\n",
    "1. 1 point - Created Flask App\n",
    "2. 2 poitns - Created functionality to read or get specific data from the databse\n",
    "3. 4 points - Created functionality to input new data into each table for the databases\n",
    "4. 3 points - Created static endpoints which return analytical result (must be different from point 2,3)\n",
    "5. 3 points - Created dynamic endpoints which return analytical result (must be different from point 2,3,4)\n",
    "6. 3 points - Created POST endpoint which receive input data, then utilize it to get analytical result (must be different from point 2,3,4,5)\n",
    "\n",
    "**Tools**: \n",
    "- **Python** with **Jupyter Notebook**, installed with **required libraries**\n",
    "- **Visual Studio Code (VSCode)**: Recommended for writing application scripts\n",
    "- **TablePlus**: Recommended for easy database access and exploration\n",
    "- Postman: Optional for easy API testing\n"
   ]
  },
  {
   "cell_type": "markdown",
   "id": "7f0d31b3-764f-4d0a-941d-443c5a502e1f",
   "metadata": {},
   "source": [
    "# About the Data"
   ]
  },
  {
   "cell_type": "markdown",
   "id": "89ec6608-cf50-4f15-993c-99f186ece82c",
   "metadata": {},
   "source": [
    "The data that we will be using in this project is **[Austin Bike Share]()** dataset which contains information on bike trip start location, stop location, duration, type of bike share user in the city of Austin, Texas. Bike station location data is also provided. \n",
    "\n",
    "All the information is stored in a database called **austin_bikeshare.db**. However, we also provides the non existing data in csv files. These data then will be imported into the database using the API"
   ]
  },
  {
   "cell_type": "markdown",
   "id": "3c4833d3-015d-4f4a-b00d-21e00af777fc",
   "metadata": {},
   "source": [
    "Lists of files:\n",
    "- **austin_bikeshare.db**: The database, contains `trips` and `stations` table\n",
    "- **data/austin_bikeshare_stations.csv**: contains all the stations information which is not yet available in the database table\n",
    "- **data/austin_bikeshare_trips_2021.csv**: contains all 2021 data which is not yet available in the database table"
   ]
  },
  {
   "cell_type": "code",
   "execution_count": 40,
   "id": "52e3d146-1a21-4b1a-9ffc-817f4f084375",
   "metadata": {},
   "outputs": [],
   "source": [
    "# Reading the csv data\n",
    "trips = pd.read_csv('data/austin_bikeshare_trips_2021.csv')\n",
    "stations = pd.read_csv('data/austin_bikeshare_stations.csv')"
   ]
  },
  {
   "cell_type": "markdown",
   "id": "60bb1c45-5b3d-4987-beb7-7aafaa6b4609",
   "metadata": {},
   "source": [
    "## Taking a look for trips data\n",
    "`trips` table in database, or `austin_bikeshare_trips.csv` in original files. It roughly consisted of 1.3 million rows"
   ]
  },
  {
   "cell_type": "code",
   "execution_count": 41,
   "id": "69039e08-e759-4950-9253-3ad44c59cddf",
   "metadata": {},
   "outputs": [
    {
     "data": {
      "text/html": [
       "<div>\n",
       "<style scoped>\n",
       "    .dataframe tbody tr th:only-of-type {\n",
       "        vertical-align: middle;\n",
       "    }\n",
       "\n",
       "    .dataframe tbody tr th {\n",
       "        vertical-align: top;\n",
       "    }\n",
       "\n",
       "    .dataframe thead th {\n",
       "        text-align: right;\n",
       "    }\n",
       "</style>\n",
       "<table border=\"1\" class=\"dataframe\">\n",
       "  <thead>\n",
       "    <tr style=\"text-align: right;\">\n",
       "      <th></th>\n",
       "      <th>trip_id</th>\n",
       "      <th>subscriber_type</th>\n",
       "      <th>bikeid</th>\n",
       "      <th>start_time</th>\n",
       "      <th>start_station_id</th>\n",
       "      <th>start_station_name</th>\n",
       "      <th>end_station_id</th>\n",
       "      <th>end_station_name</th>\n",
       "      <th>duration_minutes</th>\n",
       "    </tr>\n",
       "  </thead>\n",
       "  <tbody>\n",
       "    <tr>\n",
       "      <th>0</th>\n",
       "      <td>23455589</td>\n",
       "      <td>Local365</td>\n",
       "      <td>174</td>\n",
       "      <td>2021-01-26 17:47:42 UTC</td>\n",
       "      <td>4059.0</td>\n",
       "      <td>Nash Hernandez/East @ RBJ South</td>\n",
       "      <td>3660.0</td>\n",
       "      <td>East 6th/Medina</td>\n",
       "      <td>7</td>\n",
       "    </tr>\n",
       "    <tr>\n",
       "      <th>1</th>\n",
       "      <td>23459960</td>\n",
       "      <td>Local365</td>\n",
       "      <td>19265</td>\n",
       "      <td>2021-01-28 08:03:52 UTC</td>\n",
       "      <td>4054.0</td>\n",
       "      <td>Rosewood/Chicon</td>\n",
       "      <td>4055.0</td>\n",
       "      <td>11th/Salina</td>\n",
       "      <td>16</td>\n",
       "    </tr>\n",
       "  </tbody>\n",
       "</table>\n",
       "</div>"
      ],
      "text/plain": [
       "    trip_id subscriber_type bikeid               start_time  start_station_id  \\\n",
       "0  23455589        Local365    174  2021-01-26 17:47:42 UTC            4059.0   \n",
       "1  23459960        Local365  19265  2021-01-28 08:03:52 UTC            4054.0   \n",
       "\n",
       "                start_station_name  end_station_id end_station_name  \\\n",
       "0  Nash Hernandez/East @ RBJ South          3660.0  East 6th/Medina   \n",
       "1                  Rosewood/Chicon          4055.0     11th/Salina    \n",
       "\n",
       "   duration_minutes  \n",
       "0                 7  \n",
       "1                16  "
      ]
     },
     "execution_count": 41,
     "metadata": {},
     "output_type": "execute_result"
    }
   ],
   "source": [
    "trips.head(2)"
   ]
  },
  {
   "cell_type": "markdown",
   "id": "01ee13e1-1110-45fe-8831-1bf7604d6f87",
   "metadata": {},
   "source": [
    "**Data Descriptions**:\n",
    "- `bikeid`: integer id of bike\n",
    "- `checkout_time`: HH:MM:SS, see start time for date stamp\n",
    "- `duration_minutes`: int minutes of trip duration\n",
    "- `endstationid`: integer id of end station\n",
    "- `endstationname`: string of end station name\n",
    "- `month`: month, integer\n",
    "- `startstationid`: integer id of start station\n",
    "- `startstationname`: string of start station name\n",
    "- `start_time`: YYYY-MM-DD HH:MM:SS\n",
    "- `subscriber_type`: membership typ e.g. walk up, annual, other bike share, etc\n",
    "- `trip_id`: unique trip id int\n",
    "- `year`: year of trip, int"
   ]
  },
  {
   "cell_type": "markdown",
   "id": "44fd2bdd-a1e9-4734-b7a7-8ddc8f3ee0e2",
   "metadata": {},
   "source": [
    "## Taking a look for stations data\n",
    "`stations` table in database, or `austin_bikeshare_stations.csv` in original files "
   ]
  },
  {
   "cell_type": "code",
   "execution_count": 42,
   "id": "de5298bf-64a9-4565-a83d-ce1f4d1f4403",
   "metadata": {},
   "outputs": [
    {
     "data": {
      "text/html": [
       "<div>\n",
       "<style scoped>\n",
       "    .dataframe tbody tr th:only-of-type {\n",
       "        vertical-align: middle;\n",
       "    }\n",
       "\n",
       "    .dataframe tbody tr th {\n",
       "        vertical-align: top;\n",
       "    }\n",
       "\n",
       "    .dataframe thead th {\n",
       "        text-align: right;\n",
       "    }\n",
       "</style>\n",
       "<table border=\"1\" class=\"dataframe\">\n",
       "  <thead>\n",
       "    <tr style=\"text-align: right;\">\n",
       "      <th></th>\n",
       "      <th>station_id</th>\n",
       "      <th>name</th>\n",
       "      <th>status</th>\n",
       "      <th>address</th>\n",
       "      <th>alternate_name</th>\n",
       "      <th>city_asset_number</th>\n",
       "      <th>property_type</th>\n",
       "      <th>number_of_docks</th>\n",
       "      <th>power_type</th>\n",
       "      <th>footprint_length</th>\n",
       "      <th>footprint_width</th>\n",
       "      <th>notes</th>\n",
       "      <th>council_district</th>\n",
       "      <th>modified_date</th>\n",
       "    </tr>\n",
       "  </thead>\n",
       "  <tbody>\n",
       "    <tr>\n",
       "      <th>96</th>\n",
       "      <td>3795</td>\n",
       "      <td>Dean Keeton &amp; Whitis</td>\n",
       "      <td>active</td>\n",
       "      <td>300 W. Dean Keeton St.</td>\n",
       "      <td>NaN</td>\n",
       "      <td>32671.0</td>\n",
       "      <td>undetermined_parking</td>\n",
       "      <td>19.0</td>\n",
       "      <td>solar</td>\n",
       "      <td>55.0</td>\n",
       "      <td>5.0</td>\n",
       "      <td>NaN</td>\n",
       "      <td>9</td>\n",
       "      <td>2021-01-04T12:00:00Z</td>\n",
       "    </tr>\n",
       "    <tr>\n",
       "      <th>97</th>\n",
       "      <td>3797</td>\n",
       "      <td>21st &amp; University</td>\n",
       "      <td>active</td>\n",
       "      <td>2007 University Ave.</td>\n",
       "      <td>NaN</td>\n",
       "      <td>32674.0</td>\n",
       "      <td>undetermined_parking</td>\n",
       "      <td>19.0</td>\n",
       "      <td>solar</td>\n",
       "      <td>55.0</td>\n",
       "      <td>5.0</td>\n",
       "      <td>ROW might belong to UT</td>\n",
       "      <td>9</td>\n",
       "      <td>2021-01-04T12:00:00Z</td>\n",
       "    </tr>\n",
       "  </tbody>\n",
       "</table>\n",
       "</div>"
      ],
      "text/plain": [
       "    station_id                  name  status                 address  \\\n",
       "96        3795  Dean Keeton & Whitis  active  300 W. Dean Keeton St.   \n",
       "97        3797     21st & University  active    2007 University Ave.   \n",
       "\n",
       "   alternate_name  city_asset_number         property_type  number_of_docks  \\\n",
       "96            NaN            32671.0  undetermined_parking             19.0   \n",
       "97            NaN            32674.0  undetermined_parking             19.0   \n",
       "\n",
       "   power_type  footprint_length  footprint_width                   notes  \\\n",
       "96      solar              55.0              5.0                     NaN   \n",
       "97      solar              55.0              5.0  ROW might belong to UT   \n",
       "\n",
       "    council_district         modified_date  \n",
       "96                 9  2021-01-04T12:00:00Z  \n",
       "97                 9  2021-01-04T12:00:00Z  "
      ]
     },
     "execution_count": 42,
     "metadata": {},
     "output_type": "execute_result"
    }
   ],
   "source": [
    "stations.tail(2)"
   ]
  },
  {
   "cell_type": "markdown",
   "id": "fb167853-53c1-4bd5-aea4-3bcf0d0cba5e",
   "metadata": {},
   "source": [
    "**stations table (or austin_bikeshare_trips.csv)**:\n",
    "- `station_id`: integer id of station\n",
    "- `name`: string of station name\n",
    "- `status`: string of station status (active, closed, moved, ACL-only)\n",
    "- `address`: string of station address\n",
    "- `alternate_name`: string of station alternative name\n",
    "- `city_asset_number`: integer of station's asset number\n",
    "- `property_type`: string of station's property type\n",
    "- `number_of_docks`: integer of number of available bike docks\n",
    "- `power_type`: string of station's power source type\n",
    "- `footprint_length`: float of station' blueprint length (size of the station). Probably in meters\n",
    "- `footprint_width`: float of station' blueprint width (size of the station). Probably in meters\n",
    "- `notes`: string of additional notes\n",
    "- `council_district`: integer of stations's council district\n",
    "- `modified_date`: date of last modified information regarding the station"
   ]
  },
  {
   "cell_type": "markdown",
   "id": "c424d7fc-0fe4-4010-959f-d030c825abc5",
   "metadata": {},
   "source": [
    "# Database"
   ]
  },
  {
   "cell_type": "markdown",
   "id": "c8ab9b50-dc5c-431a-a01e-b32bf0a10709",
   "metadata": {},
   "source": [
    "The first important task is to make sure we can securely make connections to the database. In this scenario, we will connect to sqlite database, `austin_bikeshare.db` via python. In this part, we will re-visit on how to work with databases, started with making a connection, get some data, and insert data into it. \n",
    "\n",
    "You can directly connect and view the database using TablePlus, or run the following code to create the connection"
   ]
  },
  {
   "cell_type": "code",
   "execution_count": 43,
   "id": "bbaec86f-2ce8-48d2-b37c-d949e53d18ce",
   "metadata": {},
   "outputs": [],
   "source": [
    "# Define a function to create connection for reusability purpose\n",
    "def make_connection():\n",
    "    connection = sqlite3.connect('austin_bikeshare.db')\n",
    "    return connection\n",
    "\n",
    "# Make a connection\n",
    "conn = make_connection()"
   ]
  },
  {
   "cell_type": "markdown",
   "id": "63da1e43-7bea-473c-9b7e-f9b86e13a8ec",
   "metadata": {},
   "source": [
    "## POST: Insert data into database\n",
    "\n",
    "Generally, POST method will utilize the data sent by user for specific purporse, for example: \n",
    "\n",
    "- Insert new data into the database. \n",
    "- Operate the data into some function"
   ]
  },
  {
   "cell_type": "markdown",
   "id": "27d0a87a-a3cf-4a38-85bb-3036718f2e62",
   "metadata": {},
   "source": [
    "We will learn how to insert data into a specific table in our database. Please refer to the following code to create and run the query for the given task"
   ]
  },
  {
   "cell_type": "code",
   "execution_count": 44,
   "id": "5e562c9b",
   "metadata": {},
   "outputs": [
    {
     "data": {
      "text/html": [
       "<div>\n",
       "<style scoped>\n",
       "    .dataframe tbody tr th:only-of-type {\n",
       "        vertical-align: middle;\n",
       "    }\n",
       "\n",
       "    .dataframe tbody tr th {\n",
       "        vertical-align: top;\n",
       "    }\n",
       "\n",
       "    .dataframe thead th {\n",
       "        text-align: right;\n",
       "    }\n",
       "</style>\n",
       "<table border=\"1\" class=\"dataframe\">\n",
       "  <thead>\n",
       "    <tr style=\"text-align: right;\">\n",
       "      <th></th>\n",
       "      <th>station_id</th>\n",
       "      <th>name</th>\n",
       "      <th>status</th>\n",
       "      <th>address</th>\n",
       "      <th>alternate_name</th>\n",
       "      <th>city_asset_number</th>\n",
       "      <th>property_type</th>\n",
       "      <th>number_of_docks</th>\n",
       "      <th>power_type</th>\n",
       "      <th>footprint_length</th>\n",
       "      <th>footprint_width</th>\n",
       "      <th>notes</th>\n",
       "      <th>council_district</th>\n",
       "      <th>modified_date</th>\n",
       "    </tr>\n",
       "  </thead>\n",
       "  <tbody>\n",
       "    <tr>\n",
       "      <th>0</th>\n",
       "      <td>3464</td>\n",
       "      <td>Pease Park</td>\n",
       "      <td>closed</td>\n",
       "      <td>1155 Kingsbury St</td>\n",
       "      <td>NaN</td>\n",
       "      <td>NaN</td>\n",
       "      <td>NaN</td>\n",
       "      <td>NaN</td>\n",
       "      <td>NaN</td>\n",
       "      <td>NaN</td>\n",
       "      <td>NaN</td>\n",
       "      <td>NaN</td>\n",
       "      <td>9</td>\n",
       "      <td>2021-01-04T12:00:00Z</td>\n",
       "    </tr>\n",
       "    <tr>\n",
       "      <th>1</th>\n",
       "      <td>2500</td>\n",
       "      <td>Republic Square</td>\n",
       "      <td>closed</td>\n",
       "      <td>425 W 4th Street</td>\n",
       "      <td>NaN</td>\n",
       "      <td>NaN</td>\n",
       "      <td>NaN</td>\n",
       "      <td>NaN</td>\n",
       "      <td>NaN</td>\n",
       "      <td>NaN</td>\n",
       "      <td>NaN</td>\n",
       "      <td>NaN</td>\n",
       "      <td>9</td>\n",
       "      <td>2021-01-04T12:00:00Z</td>\n",
       "    </tr>\n",
       "    <tr>\n",
       "      <th>2</th>\n",
       "      <td>2536</td>\n",
       "      <td>Waller &amp; 6th St.</td>\n",
       "      <td>closed</td>\n",
       "      <td>602 Waller St.</td>\n",
       "      <td>NaN</td>\n",
       "      <td>NaN</td>\n",
       "      <td>NaN</td>\n",
       "      <td>NaN</td>\n",
       "      <td>NaN</td>\n",
       "      <td>NaN</td>\n",
       "      <td>NaN</td>\n",
       "      <td>NaN</td>\n",
       "      <td>3</td>\n",
       "      <td>2021-01-04T12:00:00Z</td>\n",
       "    </tr>\n",
       "    <tr>\n",
       "      <th>3</th>\n",
       "      <td>2538</td>\n",
       "      <td>Bullock Museum @ Congress &amp; MLK</td>\n",
       "      <td>closed</td>\n",
       "      <td>1881 Congress Ave.</td>\n",
       "      <td>NaN</td>\n",
       "      <td>NaN</td>\n",
       "      <td>NaN</td>\n",
       "      <td>NaN</td>\n",
       "      <td>NaN</td>\n",
       "      <td>NaN</td>\n",
       "      <td>NaN</td>\n",
       "      <td>NaN</td>\n",
       "      <td>1</td>\n",
       "      <td>2021-01-04T12:00:00Z</td>\n",
       "    </tr>\n",
       "    <tr>\n",
       "      <th>4</th>\n",
       "      <td>2541</td>\n",
       "      <td>State Capitol @ 14th &amp; Colorado</td>\n",
       "      <td>closed</td>\n",
       "      <td>206 W. 14th St.</td>\n",
       "      <td>NaN</td>\n",
       "      <td>NaN</td>\n",
       "      <td>NaN</td>\n",
       "      <td>NaN</td>\n",
       "      <td>NaN</td>\n",
       "      <td>NaN</td>\n",
       "      <td>NaN</td>\n",
       "      <td>NaN</td>\n",
       "      <td>1</td>\n",
       "      <td>2021-01-04T12:00:00Z</td>\n",
       "    </tr>\n",
       "    <tr>\n",
       "      <th>...</th>\n",
       "      <td>...</td>\n",
       "      <td>...</td>\n",
       "      <td>...</td>\n",
       "      <td>...</td>\n",
       "      <td>...</td>\n",
       "      <td>...</td>\n",
       "      <td>...</td>\n",
       "      <td>...</td>\n",
       "      <td>...</td>\n",
       "      <td>...</td>\n",
       "      <td>...</td>\n",
       "      <td>...</td>\n",
       "      <td>...</td>\n",
       "      <td>...</td>\n",
       "    </tr>\n",
       "    <tr>\n",
       "      <th>93</th>\n",
       "      <td>4048</td>\n",
       "      <td>South Congress @ Bouldin Creek</td>\n",
       "      <td>active</td>\n",
       "      <td>799 South Congress Avenue</td>\n",
       "      <td>NaN</td>\n",
       "      <td>32746.0</td>\n",
       "      <td>undetermined_parking</td>\n",
       "      <td>13.0</td>\n",
       "      <td>solar</td>\n",
       "      <td>40.0</td>\n",
       "      <td>5.0</td>\n",
       "      <td>NaN</td>\n",
       "      <td>9</td>\n",
       "      <td>2021-01-04T12:00:00Z</td>\n",
       "    </tr>\n",
       "    <tr>\n",
       "      <th>94</th>\n",
       "      <td>3377</td>\n",
       "      <td>MoPac Pedestrian Bridge @ Veterans Drive</td>\n",
       "      <td>active</td>\n",
       "      <td>2105 Veterans Dr.</td>\n",
       "      <td>NaN</td>\n",
       "      <td>16598.0</td>\n",
       "      <td>undetermined_parking</td>\n",
       "      <td>19.0</td>\n",
       "      <td>solar</td>\n",
       "      <td>55.0</td>\n",
       "      <td>5.0</td>\n",
       "      <td>parkland in ROW/eastment</td>\n",
       "      <td>9</td>\n",
       "      <td>2021-01-04T12:00:00Z</td>\n",
       "    </tr>\n",
       "    <tr>\n",
       "      <th>95</th>\n",
       "      <td>3794</td>\n",
       "      <td>Dean Keeton &amp; Speedway</td>\n",
       "      <td>active</td>\n",
       "      <td>180 E. Dean Keeton St.</td>\n",
       "      <td>NaN</td>\n",
       "      <td>32670.0</td>\n",
       "      <td>undetermined_parking</td>\n",
       "      <td>19.0</td>\n",
       "      <td>solar</td>\n",
       "      <td>55.0</td>\n",
       "      <td>5.0</td>\n",
       "      <td>NaN</td>\n",
       "      <td>9</td>\n",
       "      <td>2021-01-04T12:00:00Z</td>\n",
       "    </tr>\n",
       "    <tr>\n",
       "      <th>96</th>\n",
       "      <td>3795</td>\n",
       "      <td>Dean Keeton &amp; Whitis</td>\n",
       "      <td>active</td>\n",
       "      <td>300 W. Dean Keeton St.</td>\n",
       "      <td>NaN</td>\n",
       "      <td>32671.0</td>\n",
       "      <td>undetermined_parking</td>\n",
       "      <td>19.0</td>\n",
       "      <td>solar</td>\n",
       "      <td>55.0</td>\n",
       "      <td>5.0</td>\n",
       "      <td>NaN</td>\n",
       "      <td>9</td>\n",
       "      <td>2021-01-04T12:00:00Z</td>\n",
       "    </tr>\n",
       "    <tr>\n",
       "      <th>97</th>\n",
       "      <td>3797</td>\n",
       "      <td>21st &amp; University</td>\n",
       "      <td>active</td>\n",
       "      <td>2007 University Ave.</td>\n",
       "      <td>NaN</td>\n",
       "      <td>32674.0</td>\n",
       "      <td>undetermined_parking</td>\n",
       "      <td>19.0</td>\n",
       "      <td>solar</td>\n",
       "      <td>55.0</td>\n",
       "      <td>5.0</td>\n",
       "      <td>ROW might belong to UT</td>\n",
       "      <td>9</td>\n",
       "      <td>2021-01-04T12:00:00Z</td>\n",
       "    </tr>\n",
       "  </tbody>\n",
       "</table>\n",
       "<p>98 rows × 14 columns</p>\n",
       "</div>"
      ],
      "text/plain": [
       "    station_id                                      name  status  \\\n",
       "0         3464                                Pease Park  closed   \n",
       "1         2500                           Republic Square  closed   \n",
       "2         2536                          Waller & 6th St.  closed   \n",
       "3         2538           Bullock Museum @ Congress & MLK  closed   \n",
       "4         2541           State Capitol @ 14th & Colorado  closed   \n",
       "..         ...                                       ...     ...   \n",
       "93        4048            South Congress @ Bouldin Creek  active   \n",
       "94        3377  MoPac Pedestrian Bridge @ Veterans Drive  active   \n",
       "95        3794                    Dean Keeton & Speedway  active   \n",
       "96        3795                      Dean Keeton & Whitis  active   \n",
       "97        3797                         21st & University  active   \n",
       "\n",
       "                      address alternate_name  city_asset_number  \\\n",
       "0           1155 Kingsbury St            NaN                NaN   \n",
       "1            425 W 4th Street            NaN                NaN   \n",
       "2              602 Waller St.            NaN                NaN   \n",
       "3          1881 Congress Ave.            NaN                NaN   \n",
       "4             206 W. 14th St.            NaN                NaN   \n",
       "..                        ...            ...                ...   \n",
       "93  799 South Congress Avenue            NaN            32746.0   \n",
       "94          2105 Veterans Dr.            NaN            16598.0   \n",
       "95     180 E. Dean Keeton St.            NaN            32670.0   \n",
       "96     300 W. Dean Keeton St.            NaN            32671.0   \n",
       "97       2007 University Ave.            NaN            32674.0   \n",
       "\n",
       "           property_type  number_of_docks power_type  footprint_length  \\\n",
       "0                    NaN              NaN        NaN               NaN   \n",
       "1                    NaN              NaN        NaN               NaN   \n",
       "2                    NaN              NaN        NaN               NaN   \n",
       "3                    NaN              NaN        NaN               NaN   \n",
       "4                    NaN              NaN        NaN               NaN   \n",
       "..                   ...              ...        ...               ...   \n",
       "93  undetermined_parking             13.0      solar              40.0   \n",
       "94  undetermined_parking             19.0      solar              55.0   \n",
       "95  undetermined_parking             19.0      solar              55.0   \n",
       "96  undetermined_parking             19.0      solar              55.0   \n",
       "97  undetermined_parking             19.0      solar              55.0   \n",
       "\n",
       "    footprint_width                     notes  council_district  \\\n",
       "0               NaN                       NaN                 9   \n",
       "1               NaN                       NaN                 9   \n",
       "2               NaN                       NaN                 3   \n",
       "3               NaN                       NaN                 1   \n",
       "4               NaN                       NaN                 1   \n",
       "..              ...                       ...               ...   \n",
       "93              5.0                       NaN                 9   \n",
       "94              5.0  parkland in ROW/eastment                 9   \n",
       "95              5.0                       NaN                 9   \n",
       "96              5.0                       NaN                 9   \n",
       "97              5.0    ROW might belong to UT                 9   \n",
       "\n",
       "           modified_date  \n",
       "0   2021-01-04T12:00:00Z  \n",
       "1   2021-01-04T12:00:00Z  \n",
       "2   2021-01-04T12:00:00Z  \n",
       "3   2021-01-04T12:00:00Z  \n",
       "4   2021-01-04T12:00:00Z  \n",
       "..                   ...  \n",
       "93  2021-01-04T12:00:00Z  \n",
       "94  2021-01-04T12:00:00Z  \n",
       "95  2021-01-04T12:00:00Z  \n",
       "96  2021-01-04T12:00:00Z  \n",
       "97  2021-01-04T12:00:00Z  \n",
       "\n",
       "[98 rows x 14 columns]"
      ]
     },
     "execution_count": 44,
     "metadata": {},
     "output_type": "execute_result"
    }
   ],
   "source": [
    "stations"
   ]
  },
  {
   "cell_type": "code",
   "execution_count": 45,
   "id": "1d200cd0-8a48-4b45-800c-c39c25bafcb4",
   "metadata": {},
   "outputs": [],
   "source": [
    "# Get the data values\n",
    "data = tuple(stations.iloc[1].fillna('').values)\n",
    "\n",
    "# Make the query\n",
    "query = f\"\"\"\n",
    "INSERT INTO stations\n",
    "VALUES {data}\n",
    "\"\"\""
   ]
  },
  {
   "cell_type": "code",
   "execution_count": 46,
   "id": "1bf0754c-9cea-4d62-b870-1323bb2f7c1b",
   "metadata": {},
   "outputs": [
    {
     "name": "stdout",
     "output_type": "stream",
     "text": [
      "\n",
      "INSERT INTO stations\n",
      "VALUES (2500, 'Republic Square', 'closed', '425 W 4th Street', '', '', '', '', '', '', '', '', 9, '2021-01-04T12:00:00Z')\n",
      "\n"
     ]
    }
   ],
   "source": [
    "# See the actual query looks like\n",
    "print(query)"
   ]
  },
  {
   "cell_type": "code",
   "execution_count": 47,
   "id": "7c5c2d27-93ee-48a2-8228-d54c26b6f3da",
   "metadata": {},
   "outputs": [
    {
     "data": {
      "text/plain": [
       "<sqlite3.Cursor at 0x1df9a795650>"
      ]
     },
     "execution_count": 47,
     "metadata": {},
     "output_type": "execute_result"
    }
   ],
   "source": [
    "# Execute the query \n",
    "conn.execute(query)"
   ]
  },
  {
   "cell_type": "code",
   "execution_count": 48,
   "id": "3b35411a-c2bd-4a20-9663-50356ce74f7c",
   "metadata": {},
   "outputs": [],
   "source": [
    "# Commit changes to database\n",
    "conn.commit()"
   ]
  },
  {
   "cell_type": "markdown",
   "id": "433e02eb-4244-4bf9-8cd6-2f65da183431",
   "metadata": {},
   "source": [
    "Once the code above succesful, it's recomended to wrap it into a function so that we can reuse it in the future. Complete the following codes to make the function:"
   ]
  },
  {
   "cell_type": "code",
   "execution_count": 49,
   "id": "604b25b8-66f9-4707-a092-a945023133cc",
   "metadata": {},
   "outputs": [],
   "source": [
    "def insert_into_stations(data, conn):\n",
    "    query = f\"\"\"INSERT INTO stations values {data}\"\"\"\n",
    "    try:\n",
    "        conn.execute(query)\n",
    "    except:\n",
    "        return 'Error'\n",
    "    conn.commit()\n",
    "    return 'OK'"
   ]
  },
  {
   "cell_type": "code",
   "execution_count": 60,
   "id": "97b6ec11-9394-4b27-8203-4892c79cfbc5",
   "metadata": {},
   "outputs": [],
   "source": [
    "# Example use of the function \n",
    "conn = make_connection()\n",
    "data = tuple(stations.iloc[7].fillna('').values) # Randomly select a data\n",
    "result = insert_into_stations(data, conn)"
   ]
  },
  {
   "cell_type": "code",
   "execution_count": 61,
   "id": "513c8720",
   "metadata": {},
   "outputs": [
    {
     "data": {
      "text/plain": [
       "'OK'"
      ]
     },
     "execution_count": 61,
     "metadata": {},
     "output_type": "execute_result"
    }
   ],
   "source": [
    "result"
   ]
  },
  {
   "cell_type": "markdown",
   "id": "d9beafb2-ee93-4532-a0f9-b10ac56a6835",
   "metadata": {},
   "source": [
    "**TASK: Create a Function to insert data for `trips` table**"
   ]
  },
  {
   "cell_type": "code",
   "execution_count": 52,
   "id": "e9c826d0",
   "metadata": {},
   "outputs": [
    {
     "data": {
      "text/html": [
       "<div>\n",
       "<style scoped>\n",
       "    .dataframe tbody tr th:only-of-type {\n",
       "        vertical-align: middle;\n",
       "    }\n",
       "\n",
       "    .dataframe tbody tr th {\n",
       "        vertical-align: top;\n",
       "    }\n",
       "\n",
       "    .dataframe thead th {\n",
       "        text-align: right;\n",
       "    }\n",
       "</style>\n",
       "<table border=\"1\" class=\"dataframe\">\n",
       "  <thead>\n",
       "    <tr style=\"text-align: right;\">\n",
       "      <th></th>\n",
       "      <th>trip_id</th>\n",
       "      <th>subscriber_type</th>\n",
       "      <th>bikeid</th>\n",
       "      <th>start_time</th>\n",
       "      <th>start_station_id</th>\n",
       "      <th>start_station_name</th>\n",
       "      <th>end_station_id</th>\n",
       "      <th>end_station_name</th>\n",
       "      <th>duration_minutes</th>\n",
       "    </tr>\n",
       "  </thead>\n",
       "  <tbody>\n",
       "    <tr>\n",
       "      <th>0</th>\n",
       "      <td>23455589</td>\n",
       "      <td>Local365</td>\n",
       "      <td>174</td>\n",
       "      <td>2021-01-26 17:47:42 UTC</td>\n",
       "      <td>4059.0</td>\n",
       "      <td>Nash Hernandez/East @ RBJ South</td>\n",
       "      <td>3660.0</td>\n",
       "      <td>East 6th/Medina</td>\n",
       "      <td>7</td>\n",
       "    </tr>\n",
       "    <tr>\n",
       "      <th>1</th>\n",
       "      <td>23459960</td>\n",
       "      <td>Local365</td>\n",
       "      <td>19265</td>\n",
       "      <td>2021-01-28 08:03:52 UTC</td>\n",
       "      <td>4054.0</td>\n",
       "      <td>Rosewood/Chicon</td>\n",
       "      <td>4055.0</td>\n",
       "      <td>11th/Salina</td>\n",
       "      <td>16</td>\n",
       "    </tr>\n",
       "    <tr>\n",
       "      <th>2</th>\n",
       "      <td>23436548</td>\n",
       "      <td>Local365</td>\n",
       "      <td>18331</td>\n",
       "      <td>2021-01-21 07:09:48 UTC</td>\n",
       "      <td>4055.0</td>\n",
       "      <td>11th/Salina</td>\n",
       "      <td>4055.0</td>\n",
       "      <td>11th/Salina</td>\n",
       "      <td>25</td>\n",
       "    </tr>\n",
       "    <tr>\n",
       "      <th>3</th>\n",
       "      <td>23382542</td>\n",
       "      <td>Local365</td>\n",
       "      <td>19682</td>\n",
       "      <td>2021-01-04 09:38:18 UTC</td>\n",
       "      <td>4062.0</td>\n",
       "      <td>Lakeshore/Pleasant Valley</td>\n",
       "      <td>3293.0</td>\n",
       "      <td>East 2nd/Pedernales</td>\n",
       "      <td>5</td>\n",
       "    </tr>\n",
       "    <tr>\n",
       "      <th>4</th>\n",
       "      <td>23374882</td>\n",
       "      <td>Local365</td>\n",
       "      <td>19437</td>\n",
       "      <td>2021-01-02 15:04:01 UTC</td>\n",
       "      <td>3293.0</td>\n",
       "      <td>East 2nd/Pedernales</td>\n",
       "      <td>4062.0</td>\n",
       "      <td>Lakeshore/Pleasant Valley</td>\n",
       "      <td>5</td>\n",
       "    </tr>\n",
       "  </tbody>\n",
       "</table>\n",
       "</div>"
      ],
      "text/plain": [
       "    trip_id subscriber_type bikeid               start_time  start_station_id  \\\n",
       "0  23455589        Local365    174  2021-01-26 17:47:42 UTC            4059.0   \n",
       "1  23459960        Local365  19265  2021-01-28 08:03:52 UTC            4054.0   \n",
       "2  23436548        Local365  18331  2021-01-21 07:09:48 UTC            4055.0   \n",
       "3  23382542        Local365  19682  2021-01-04 09:38:18 UTC            4062.0   \n",
       "4  23374882        Local365  19437  2021-01-02 15:04:01 UTC            3293.0   \n",
       "\n",
       "                start_station_name  end_station_id           end_station_name  \\\n",
       "0  Nash Hernandez/East @ RBJ South          3660.0            East 6th/Medina   \n",
       "1                  Rosewood/Chicon          4055.0               11th/Salina    \n",
       "2                     11th/Salina           4055.0               11th/Salina    \n",
       "3        Lakeshore/Pleasant Valley          3293.0        East 2nd/Pedernales   \n",
       "4              East 2nd/Pedernales          4062.0  Lakeshore/Pleasant Valley   \n",
       "\n",
       "   duration_minutes  \n",
       "0                 7  \n",
       "1                16  \n",
       "2                25  \n",
       "3                 5  \n",
       "4                 5  "
      ]
     },
     "execution_count": 52,
     "metadata": {},
     "output_type": "execute_result"
    }
   ],
   "source": [
    "trips.head()"
   ]
  },
  {
   "cell_type": "code",
   "execution_count": 53,
   "id": "aac0820e-2594-49c5-a98f-e72e8917da48",
   "metadata": {},
   "outputs": [],
   "source": [
    "# Your code here\n",
    "def insert_into_trips(data_trips, conn):\n",
    "    query = f\"\"\"INSERT INTO trips values {data_trips}\"\"\"\n",
    "    try:\n",
    "        conn.execute(query)\n",
    "    except:\n",
    "        return 'Error'\n",
    "    conn.commit()\n",
    "    return 'OK'"
   ]
  },
  {
   "cell_type": "code",
   "execution_count": 54,
   "id": "9916ea96",
   "metadata": {},
   "outputs": [],
   "source": [
    "conn = make_connection()\n",
    "data_trips = tuple(trips.iloc[0].fillna('').values) # random data in trips\n",
    "result_trips = insert_into_trips(data_trips, conn)"
   ]
  },
  {
   "cell_type": "code",
   "execution_count": 55,
   "id": "2d8ba4dd",
   "metadata": {},
   "outputs": [
    {
     "data": {
      "text/plain": [
       "'OK'"
      ]
     },
     "execution_count": 55,
     "metadata": {},
     "output_type": "execute_result"
    }
   ],
   "source": [
    "result_trips"
   ]
  },
  {
   "cell_type": "markdown",
   "id": "72c93934-9c7e-495e-8613-9a5e73833577",
   "metadata": {},
   "source": [
    "## GET: Read specific data"
   ]
  },
  {
   "cell_type": "markdown",
   "id": "f2486c61-a982-4d9f-831f-1fa77a21a417",
   "metadata": {},
   "source": [
    "Generally, GET method will ask for specific the data in the database, alongside with additional information we might send. For example: \n",
    "- Get number of unique user\n",
    "- Get full trips information for specific user id\n",
    "- Get average trips duration and length for specific user id\n",
    "\n",
    "In this example, we will implement the most basic GET method, that is to get Station information in the table based on specific Station ID"
   ]
  },
  {
   "cell_type": "code",
   "execution_count": 62,
   "id": "09b1e8f2-fc04-4c06-a23e-d31a93f65ccd",
   "metadata": {},
   "outputs": [],
   "source": [
    "# Get Specific Station ID  Query\n",
    "station_id = 2500\n",
    "query_station_id = f\"\"\"\n",
    "SELECT * FROM stations\n",
    "WHERE station_id = {station_id}\n",
    "\"\"\"\n",
    "\n",
    "# Get all station ID Query\n",
    "query_station_all = \"SELECT * FROM stations\""
   ]
  },
  {
   "cell_type": "code",
   "execution_count": 63,
   "id": "c4e317b7",
   "metadata": {},
   "outputs": [
    {
     "name": "stdout",
     "output_type": "stream",
     "text": [
      "\n",
      "SELECT * FROM stations\n",
      "WHERE station_id = 2500\n",
      "\n"
     ]
    }
   ],
   "source": [
    "print(query_station_id)"
   ]
  },
  {
   "cell_type": "code",
   "execution_count": 64,
   "id": "2b014e89-f857-4e18-9607-2b7d6139a1de",
   "metadata": {},
   "outputs": [],
   "source": [
    "# Run the query and get the result\n",
    "result = pd.read_sql_query(query_station_id, conn)"
   ]
  },
  {
   "cell_type": "code",
   "execution_count": 65,
   "id": "5c7a54ab-e979-4c1c-b27c-60e501cb3733",
   "metadata": {},
   "outputs": [
    {
     "data": {
      "text/html": [
       "<div>\n",
       "<style scoped>\n",
       "    .dataframe tbody tr th:only-of-type {\n",
       "        vertical-align: middle;\n",
       "    }\n",
       "\n",
       "    .dataframe tbody tr th {\n",
       "        vertical-align: top;\n",
       "    }\n",
       "\n",
       "    .dataframe thead th {\n",
       "        text-align: right;\n",
       "    }\n",
       "</style>\n",
       "<table border=\"1\" class=\"dataframe\">\n",
       "  <thead>\n",
       "    <tr style=\"text-align: right;\">\n",
       "      <th></th>\n",
       "      <th>station_id</th>\n",
       "      <th>name</th>\n",
       "      <th>status</th>\n",
       "      <th>address</th>\n",
       "      <th>alternate_name</th>\n",
       "      <th>city_asset_number</th>\n",
       "      <th>property_type</th>\n",
       "      <th>number_of_docks</th>\n",
       "      <th>power_type</th>\n",
       "      <th>footprint_length</th>\n",
       "      <th>footprint_width</th>\n",
       "      <th>notes</th>\n",
       "      <th>council_district</th>\n",
       "      <th>modified_date</th>\n",
       "    </tr>\n",
       "  </thead>\n",
       "  <tbody>\n",
       "    <tr>\n",
       "      <th>0</th>\n",
       "      <td>2500</td>\n",
       "      <td>Republic Square</td>\n",
       "      <td>closed</td>\n",
       "      <td>425 W 4th Street</td>\n",
       "      <td></td>\n",
       "      <td></td>\n",
       "      <td></td>\n",
       "      <td></td>\n",
       "      <td></td>\n",
       "      <td></td>\n",
       "      <td></td>\n",
       "      <td></td>\n",
       "      <td>9</td>\n",
       "      <td>2021-01-04T12:00:00Z</td>\n",
       "    </tr>\n",
       "  </tbody>\n",
       "</table>\n",
       "</div>"
      ],
      "text/plain": [
       "   station_id             name  status           address alternate_name  \\\n",
       "0        2500  Republic Square  closed  425 W 4th Street                  \n",
       "\n",
       "  city_asset_number property_type number_of_docks power_type footprint_length  \\\n",
       "0                                                                               \n",
       "\n",
       "  footprint_width notes  council_district         modified_date  \n",
       "0                                       9  2021-01-04T12:00:00Z  "
      ]
     },
     "execution_count": 65,
     "metadata": {},
     "output_type": "execute_result"
    }
   ],
   "source": [
    "result"
   ]
  },
  {
   "cell_type": "markdown",
   "id": "4e589298-cbb0-4720-8275-7f09c18a9cca",
   "metadata": {},
   "source": [
    "Just like the previous section, create a function to read specific station"
   ]
  },
  {
   "cell_type": "code",
   "execution_count": 66,
   "id": "697114ad-0305-4d98-8cad-fa384be07e6b",
   "metadata": {},
   "outputs": [],
   "source": [
    "def get_station_id(station_id, conn):\n",
    "    query = f\"\"\"SELECT * FROM stations WHERE station_id = {station_id}\"\"\"\n",
    "    result = pd.read_sql_query(query, conn)\n",
    "    return result \n",
    "\n",
    "def get_all_stations(conn):\n",
    "    query = f\"\"\"SELECT * FROM stations\"\"\"\n",
    "    result = pd.read_sql_query(query, conn)\n",
    "    return result"
   ]
  },
  {
   "cell_type": "code",
   "execution_count": 69,
   "id": "4efc6de3",
   "metadata": {},
   "outputs": [
    {
     "data": {
      "text/html": [
       "<div>\n",
       "<style scoped>\n",
       "    .dataframe tbody tr th:only-of-type {\n",
       "        vertical-align: middle;\n",
       "    }\n",
       "\n",
       "    .dataframe tbody tr th {\n",
       "        vertical-align: top;\n",
       "    }\n",
       "\n",
       "    .dataframe thead th {\n",
       "        text-align: right;\n",
       "    }\n",
       "</style>\n",
       "<table border=\"1\" class=\"dataframe\">\n",
       "  <thead>\n",
       "    <tr style=\"text-align: right;\">\n",
       "      <th></th>\n",
       "      <th>station_id</th>\n",
       "      <th>name</th>\n",
       "      <th>status</th>\n",
       "      <th>address</th>\n",
       "      <th>alternate_name</th>\n",
       "      <th>city_asset_number</th>\n",
       "      <th>property_type</th>\n",
       "      <th>number_of_docks</th>\n",
       "      <th>power_type</th>\n",
       "      <th>footprint_length</th>\n",
       "      <th>footprint_width</th>\n",
       "      <th>notes</th>\n",
       "      <th>council_district</th>\n",
       "      <th>modified_date</th>\n",
       "    </tr>\n",
       "  </thead>\n",
       "  <tbody>\n",
       "    <tr>\n",
       "      <th>0</th>\n",
       "      <td>2500</td>\n",
       "      <td>Republic Square</td>\n",
       "      <td>closed</td>\n",
       "      <td>425 W 4th Street</td>\n",
       "      <td></td>\n",
       "      <td></td>\n",
       "      <td></td>\n",
       "      <td></td>\n",
       "      <td></td>\n",
       "      <td></td>\n",
       "      <td></td>\n",
       "      <td></td>\n",
       "      <td>9</td>\n",
       "      <td>2021-01-04T12:00:00Z</td>\n",
       "    </tr>\n",
       "  </tbody>\n",
       "</table>\n",
       "</div>"
      ],
      "text/plain": [
       "   station_id             name  status           address alternate_name  \\\n",
       "0        2500  Republic Square  closed  425 W 4th Street                  \n",
       "\n",
       "  city_asset_number property_type number_of_docks power_type footprint_length  \\\n",
       "0                                                                               \n",
       "\n",
       "  footprint_width notes  council_district         modified_date  \n",
       "0                                       9  2021-01-04T12:00:00Z  "
      ]
     },
     "execution_count": 69,
     "metadata": {},
     "output_type": "execute_result"
    }
   ],
   "source": [
    "get_station_id(2500,conn)"
   ]
  },
  {
   "cell_type": "code",
   "execution_count": 70,
   "id": "3b167239",
   "metadata": {},
   "outputs": [
    {
     "data": {
      "text/html": [
       "<div>\n",
       "<style scoped>\n",
       "    .dataframe tbody tr th:only-of-type {\n",
       "        vertical-align: middle;\n",
       "    }\n",
       "\n",
       "    .dataframe tbody tr th {\n",
       "        vertical-align: top;\n",
       "    }\n",
       "\n",
       "    .dataframe thead th {\n",
       "        text-align: right;\n",
       "    }\n",
       "</style>\n",
       "<table border=\"1\" class=\"dataframe\">\n",
       "  <thead>\n",
       "    <tr style=\"text-align: right;\">\n",
       "      <th></th>\n",
       "      <th>station_id</th>\n",
       "      <th>name</th>\n",
       "      <th>status</th>\n",
       "      <th>address</th>\n",
       "      <th>alternate_name</th>\n",
       "      <th>city_asset_number</th>\n",
       "      <th>property_type</th>\n",
       "      <th>number_of_docks</th>\n",
       "      <th>power_type</th>\n",
       "      <th>footprint_length</th>\n",
       "      <th>footprint_width</th>\n",
       "      <th>notes</th>\n",
       "      <th>council_district</th>\n",
       "      <th>modified_date</th>\n",
       "    </tr>\n",
       "  </thead>\n",
       "  <tbody>\n",
       "    <tr>\n",
       "      <th>0</th>\n",
       "      <td>2500</td>\n",
       "      <td>Republic Square</td>\n",
       "      <td>closed</td>\n",
       "      <td>425 W 4th Street</td>\n",
       "      <td></td>\n",
       "      <td></td>\n",
       "      <td></td>\n",
       "      <td></td>\n",
       "      <td></td>\n",
       "      <td></td>\n",
       "      <td></td>\n",
       "      <td></td>\n",
       "      <td>9</td>\n",
       "      <td>2021-01-04T12:00:00Z</td>\n",
       "    </tr>\n",
       "    <tr>\n",
       "      <th>1</th>\n",
       "      <td>2546</td>\n",
       "      <td>ACC - West &amp; 12th Street</td>\n",
       "      <td>closed</td>\n",
       "      <td>1231 West Ave.</td>\n",
       "      <td></td>\n",
       "      <td></td>\n",
       "      <td></td>\n",
       "      <td></td>\n",
       "      <td></td>\n",
       "      <td></td>\n",
       "      <td></td>\n",
       "      <td></td>\n",
       "      <td>9</td>\n",
       "      <td>2021-01-04T12:00:00Z</td>\n",
       "    </tr>\n",
       "    <tr>\n",
       "      <th>2</th>\n",
       "      <td>2541</td>\n",
       "      <td>State Capitol @ 14th &amp; Colorado</td>\n",
       "      <td>closed</td>\n",
       "      <td>206 W. 14th St.</td>\n",
       "      <td></td>\n",
       "      <td></td>\n",
       "      <td></td>\n",
       "      <td></td>\n",
       "      <td></td>\n",
       "      <td></td>\n",
       "      <td></td>\n",
       "      <td></td>\n",
       "      <td>1</td>\n",
       "      <td>2021-01-04T12:00:00Z</td>\n",
       "    </tr>\n",
       "    <tr>\n",
       "      <th>3</th>\n",
       "      <td>2545</td>\n",
       "      <td>ACC - Rio Grande &amp; 12th</td>\n",
       "      <td>closed</td>\n",
       "      <td>700 W. 12th St.</td>\n",
       "      <td></td>\n",
       "      <td></td>\n",
       "      <td></td>\n",
       "      <td></td>\n",
       "      <td></td>\n",
       "      <td></td>\n",
       "      <td></td>\n",
       "      <td></td>\n",
       "      <td>9</td>\n",
       "      <td>2021-01-04T12:00:00Z</td>\n",
       "    </tr>\n",
       "    <tr>\n",
       "      <th>4</th>\n",
       "      <td>2550</td>\n",
       "      <td>Republic Square @ Guadalupe &amp; 4th St.</td>\n",
       "      <td>closed</td>\n",
       "      <td>Presented by Austin Ventures</td>\n",
       "      <td></td>\n",
       "      <td></td>\n",
       "      <td></td>\n",
       "      <td></td>\n",
       "      <td></td>\n",
       "      <td></td>\n",
       "      <td></td>\n",
       "      <td></td>\n",
       "      <td>9</td>\n",
       "      <td>2021-01-04T12:00:00Z</td>\n",
       "    </tr>\n",
       "  </tbody>\n",
       "</table>\n",
       "</div>"
      ],
      "text/plain": [
       "   station_id                                   name  status  \\\n",
       "0        2500                        Republic Square  closed   \n",
       "1        2546               ACC - West & 12th Street  closed   \n",
       "2        2541        State Capitol @ 14th & Colorado  closed   \n",
       "3        2545                ACC - Rio Grande & 12th  closed   \n",
       "4        2550  Republic Square @ Guadalupe & 4th St.  closed   \n",
       "\n",
       "                        address alternate_name city_asset_number  \\\n",
       "0              425 W 4th Street                                    \n",
       "1                1231 West Ave.                                    \n",
       "2               206 W. 14th St.                                    \n",
       "3               700 W. 12th St.                                    \n",
       "4  Presented by Austin Ventures                                    \n",
       "\n",
       "  property_type number_of_docks power_type footprint_length footprint_width  \\\n",
       "0                                                                             \n",
       "1                                                                             \n",
       "2                                                                             \n",
       "3                                                                             \n",
       "4                                                                             \n",
       "\n",
       "  notes  council_district         modified_date  \n",
       "0                       9  2021-01-04T12:00:00Z  \n",
       "1                       9  2021-01-04T12:00:00Z  \n",
       "2                       1  2021-01-04T12:00:00Z  \n",
       "3                       9  2021-01-04T12:00:00Z  \n",
       "4                       9  2021-01-04T12:00:00Z  "
      ]
     },
     "execution_count": 70,
     "metadata": {},
     "output_type": "execute_result"
    }
   ],
   "source": [
    "get_all_stations(conn)"
   ]
  },
  {
   "cell_type": "markdown",
   "id": "d4d9eae2-06d8-4fed-a14b-adb32a3fbe1d",
   "metadata": {},
   "source": [
    "**TASK: Create a Function to read data from `trips` table**"
   ]
  },
  {
   "cell_type": "code",
   "execution_count": 75,
   "id": "543a6298-aace-41f2-bc0f-9ae0277f5428",
   "metadata": {},
   "outputs": [],
   "source": [
    "# Your code here\n",
    "def get_trip_id(trip_id, conn):\n",
    "    query = f\"\"\"SELECT * FROM trips WHERE id = {trip_id}\"\"\"\n",
    "    result = pd.read_sql_query(query, conn)\n",
    "    return result\n",
    "    \n",
    "def get_all_trips(conn):\n",
    "    query = f\"\"\"SELECT * FROM trips LIMIT 5\"\"\"\n",
    "    result = pd.read_sql_query(query, conn)\n",
    "    return result"
   ]
  },
  {
   "cell_type": "code",
   "execution_count": 89,
   "id": "e7a1cd02",
   "metadata": {
    "scrolled": true
   },
   "outputs": [
    {
     "data": {
      "text/html": [
       "<div>\n",
       "<style scoped>\n",
       "    .dataframe tbody tr th:only-of-type {\n",
       "        vertical-align: middle;\n",
       "    }\n",
       "\n",
       "    .dataframe tbody tr th {\n",
       "        vertical-align: top;\n",
       "    }\n",
       "\n",
       "    .dataframe thead th {\n",
       "        text-align: right;\n",
       "    }\n",
       "</style>\n",
       "<table border=\"1\" class=\"dataframe\">\n",
       "  <thead>\n",
       "    <tr style=\"text-align: right;\">\n",
       "      <th></th>\n",
       "      <th>id</th>\n",
       "      <th>subscriber_type</th>\n",
       "      <th>bikeid</th>\n",
       "      <th>start_time</th>\n",
       "      <th>start_station_id</th>\n",
       "      <th>start_station_name</th>\n",
       "      <th>end_station_id</th>\n",
       "      <th>end_station_name</th>\n",
       "      <th>duration_minutes</th>\n",
       "    </tr>\n",
       "  </thead>\n",
       "  <tbody>\n",
       "    <tr>\n",
       "      <th>0</th>\n",
       "      <td>9900289692</td>\n",
       "      <td>Walk Up</td>\n",
       "      <td>248</td>\n",
       "      <td>2015-10-02 21:12:01 UTC</td>\n",
       "      <td>1006</td>\n",
       "      <td>Zilker Park West</td>\n",
       "      <td>1008</td>\n",
       "      <td>Nueces @ 3rd</td>\n",
       "      <td>39</td>\n",
       "    </tr>\n",
       "  </tbody>\n",
       "</table>\n",
       "</div>"
      ],
      "text/plain": [
       "           id subscriber_type bikeid               start_time  \\\n",
       "0  9900289692         Walk Up    248  2015-10-02 21:12:01 UTC   \n",
       "\n",
       "   start_station_id start_station_name  end_station_id end_station_name  \\\n",
       "0              1006   Zilker Park West            1008     Nueces @ 3rd   \n",
       "\n",
       "   duration_minutes  \n",
       "0                39  "
      ]
     },
     "execution_count": 89,
     "metadata": {},
     "output_type": "execute_result"
    }
   ],
   "source": [
    "get_trip_id(9900289692,conn)"
   ]
  },
  {
   "cell_type": "code",
   "execution_count": 77,
   "id": "8b512c6f",
   "metadata": {},
   "outputs": [
    {
     "data": {
      "text/html": [
       "<div>\n",
       "<style scoped>\n",
       "    .dataframe tbody tr th:only-of-type {\n",
       "        vertical-align: middle;\n",
       "    }\n",
       "\n",
       "    .dataframe tbody tr th {\n",
       "        vertical-align: top;\n",
       "    }\n",
       "\n",
       "    .dataframe thead th {\n",
       "        text-align: right;\n",
       "    }\n",
       "</style>\n",
       "<table border=\"1\" class=\"dataframe\">\n",
       "  <thead>\n",
       "    <tr style=\"text-align: right;\">\n",
       "      <th></th>\n",
       "      <th>id</th>\n",
       "      <th>subscriber_type</th>\n",
       "      <th>bikeid</th>\n",
       "      <th>start_time</th>\n",
       "      <th>start_station_id</th>\n",
       "      <th>start_station_name</th>\n",
       "      <th>end_station_id</th>\n",
       "      <th>end_station_name</th>\n",
       "      <th>duration_minutes</th>\n",
       "    </tr>\n",
       "  </thead>\n",
       "  <tbody>\n",
       "    <tr>\n",
       "      <th>0</th>\n",
       "      <td>9900289692</td>\n",
       "      <td>Walk Up</td>\n",
       "      <td>248</td>\n",
       "      <td>2015-10-02 21:12:01 UTC</td>\n",
       "      <td>1006</td>\n",
       "      <td>Zilker Park West</td>\n",
       "      <td>1008</td>\n",
       "      <td>Nueces @ 3rd</td>\n",
       "      <td>39</td>\n",
       "    </tr>\n",
       "    <tr>\n",
       "      <th>1</th>\n",
       "      <td>9900285987</td>\n",
       "      <td>24-Hour Kiosk (Austin B-cycle)</td>\n",
       "      <td>446</td>\n",
       "      <td>2014-10-26 15:12:00 UTC</td>\n",
       "      <td>2712</td>\n",
       "      <td>Toomey Rd @ South Lamar</td>\n",
       "      <td>2712</td>\n",
       "      <td>Toomey Rd @ South Lamar</td>\n",
       "      <td>31</td>\n",
       "    </tr>\n",
       "    <tr>\n",
       "      <th>2</th>\n",
       "      <td>9900285989</td>\n",
       "      <td>24-Hour Kiosk (Austin B-cycle)</td>\n",
       "      <td>203</td>\n",
       "      <td>2014-10-26 15:12:00 UTC</td>\n",
       "      <td>2712</td>\n",
       "      <td>Toomey Rd @ South Lamar</td>\n",
       "      <td>2712</td>\n",
       "      <td>Toomey Rd @ South Lamar</td>\n",
       "      <td>31</td>\n",
       "    </tr>\n",
       "    <tr>\n",
       "      <th>3</th>\n",
       "      <td>9900285991</td>\n",
       "      <td>24-Hour Kiosk (Austin B-cycle)</td>\n",
       "      <td>101</td>\n",
       "      <td>2014-10-26 15:12:00 UTC</td>\n",
       "      <td>2712</td>\n",
       "      <td>Toomey Rd @ South Lamar</td>\n",
       "      <td>2712</td>\n",
       "      <td>Toomey Rd @ South Lamar</td>\n",
       "      <td>30</td>\n",
       "    </tr>\n",
       "    <tr>\n",
       "      <th>4</th>\n",
       "      <td>9900286140</td>\n",
       "      <td>24-Hour Kiosk (Austin B-cycle)</td>\n",
       "      <td>242</td>\n",
       "      <td>2014-10-26 18:12:00 UTC</td>\n",
       "      <td>2541</td>\n",
       "      <td>State Capitol @ 14th &amp; Colorado</td>\n",
       "      <td>2541</td>\n",
       "      <td>State Capitol @ 14th &amp; Colorado</td>\n",
       "      <td>19</td>\n",
       "    </tr>\n",
       "  </tbody>\n",
       "</table>\n",
       "</div>"
      ],
      "text/plain": [
       "           id                 subscriber_type bikeid               start_time  \\\n",
       "0  9900289692                         Walk Up    248  2015-10-02 21:12:01 UTC   \n",
       "1  9900285987  24-Hour Kiosk (Austin B-cycle)    446  2014-10-26 15:12:00 UTC   \n",
       "2  9900285989  24-Hour Kiosk (Austin B-cycle)    203  2014-10-26 15:12:00 UTC   \n",
       "3  9900285991  24-Hour Kiosk (Austin B-cycle)    101  2014-10-26 15:12:00 UTC   \n",
       "4  9900286140  24-Hour Kiosk (Austin B-cycle)    242  2014-10-26 18:12:00 UTC   \n",
       "\n",
       "   start_station_id               start_station_name  end_station_id  \\\n",
       "0              1006                 Zilker Park West            1008   \n",
       "1              2712          Toomey Rd @ South Lamar            2712   \n",
       "2              2712          Toomey Rd @ South Lamar            2712   \n",
       "3              2712          Toomey Rd @ South Lamar            2712   \n",
       "4              2541  State Capitol @ 14th & Colorado            2541   \n",
       "\n",
       "                  end_station_name  duration_minutes  \n",
       "0                     Nueces @ 3rd                39  \n",
       "1          Toomey Rd @ South Lamar                31  \n",
       "2          Toomey Rd @ South Lamar                31  \n",
       "3          Toomey Rd @ South Lamar                30  \n",
       "4  State Capitol @ 14th & Colorado                19  "
      ]
     },
     "execution_count": 77,
     "metadata": {},
     "output_type": "execute_result"
    }
   ],
   "source": [
    "get_all_trips(conn)"
   ]
  },
  {
   "cell_type": "markdown",
   "id": "b024e79d-c7db-43ca-a226-45e934c5cdc0",
   "metadata": {},
   "source": [
    "# Flask App"
   ]
  },
  {
   "cell_type": "markdown",
   "id": "d167587d-7e47-443c-b237-07f4201a6848",
   "metadata": {},
   "source": [
    "Flask is a micro-framework for python. Generally we can build any application out of it. To start with, let's make our first empy flask app. \n",
    "Creata a new file `app.py`, then copy-paste the following codes into it and save it. \n",
    "\n",
    "*Notes: it's recomended to use vscode as editor since it support vast linting supports, including python which we find really helpful in coding*"
   ]
  },
  {
   "cell_type": "markdown",
   "id": "fae662bf-4667-4b4c-a5a8-e8118d45e151",
   "metadata": {},
   "source": [
    "```python\n",
    "from flask import Flask, request\n",
    "app = Flask(__name__) \n",
    "\n",
    "if __name__ == '__main__':\n",
    "    app.run(debug=True, port=5000)\n",
    "```"
   ]
  },
  {
   "cell_type": "markdown",
   "id": "20a3e191-2d1d-42f2-b620-ab8d4535fe5f",
   "metadata": {},
   "source": [
    "To run the app, you can open your terminal, go to the specific folder and run `python app.py` using your designated virtual environment"
   ]
  },
  {
   "cell_type": "markdown",
   "id": "b7bd4362-55ad-48e7-9ed5-a9efb269d191",
   "metadata": {},
   "source": [
    "## Routes and Endpoints"
   ]
  },
  {
   "cell_type": "markdown",
   "id": "87f78576-5db9-40cc-9ccf-5f865caf0689",
   "metadata": {},
   "source": [
    "### Implement endpoints"
   ]
  },
  {
   "cell_type": "markdown",
   "id": "e52ff12b-2613-4a15-ad98-5cf8881eb5ed",
   "metadata": {},
   "source": [
    "If you succesfully run the previous app and access the localhost:5000 , you might get an 404 not found error. This is because we **have not** define yet what will happen if people accessing our root path of the app (localhost:5000/)\n",
    "\n",
    "Add the following example of route or endpoint into your `app.py` just before the `if __name__ === '__main__':` line, and reload the page to see if it works"
   ]
  },
  {
   "cell_type": "markdown",
   "id": "6870c3db-a88d-4ae6-a791-04f9e212f3f8",
   "metadata": {},
   "source": [
    "```python \n",
    "@app.route('/')\n",
    "def home():\n",
    "    return 'Hello World'\n",
    "```"
   ]
  },
  {
   "cell_type": "markdown",
   "id": "f23f1514-2ea7-4699-9b3c-b8ba2ee608eb",
   "metadata": {},
   "source": [
    "Above endpoints will runs the `home` function anytime user access the `/` page.\n",
    "\n",
    "Since we are going to handle all the requests through this app, the very next step is to implement our functionalites. Let's start with implementing the functionality to read all station data\n",
    "\n",
    "we will add the `get_all_stations()` functions into our app, create a `@app.route('/stations/')` endpoint and call the function in it. The code should looks like:\n",
    "\n",
    "```python \n",
    "@app.route('/stations/')\n",
    "def route_all_stations():\n",
    "    conn = make_connection()\n",
    "    stations = get_all_stations(conn)\n",
    "    return stations.to_json()\n",
    "    \n",
    "def get_all_stations(conn):\n",
    "    query = f\"\"\"SELECT * FROM stations\"\"\"\n",
    "    result = pd.read_sql_query(query, conn)\n",
    "    return result\n",
    "```"
   ]
  },
  {
   "cell_type": "markdown",
   "id": "11a81990-4add-4a66-8771-4832866f938b",
   "metadata": {},
   "source": [
    "However, adding just above codes is not enough. If you see, there is a dependency inside the function, which is `make_connection()` function. Other than that, we will be using all the required libraries. \n",
    "\n",
    "Hence, we can complete the code by : \n",
    "- import the required libraries at the top of the `app.py` file\n",
    "- write the `make_connection()` function before any routes declarations"
   ]
  },
  {
   "cell_type": "markdown",
   "id": "536b16f2-1cc4-4605-88ae-feee9cc6eec7",
   "metadata": {},
   "source": [
    "Once it's completed, you should see no errors in the vscode screen, and your endpoint should work just fine and returns all the stations. It's now your task to impelement the `get_all_trips` into the app "
   ]
  },
  {
   "cell_type": "markdown",
   "id": "c8eec277-fdd5-4367-83e5-f6916794b186",
   "metadata": {},
   "source": [
    "**TASK: Implement `get_all_trips()` method into the app** \\\n",
    "Place it under `@app.route('/trips/')` endpoint"
   ]
  },
  {
   "cell_type": "markdown",
   "id": "b748d3a5",
   "metadata": {},
   "source": [
    "## your code\n",
    "\n",
    "```python\n",
    "@app.route('/trips/')\n",
    "def route_all_trips():\n",
    "    conn = make_connection()\n",
    "    stations = get_all_trips(conn)\n",
    "    return stations\n",
    "def get_all_trips(conn):\n",
    "    query = f\"\"\"SELECT * FROM trips LIMIT 5\"\"\" ---Ambil hanya 5 aja untuk menghemat waktu loading\n",
    "    result = pd.read_sql_query(query, conn)\n",
    "    return result.to_json()\n",
    "```"
   ]
  },
  {
   "cell_type": "markdown",
   "id": "bc45734a-5d15-4e4c-837f-64ab1cafdde6",
   "metadata": {},
   "source": [
    "### Access Endpoints"
   ]
  },
  {
   "cell_type": "markdown",
   "id": "43143d5d-a361-4141-8f35-2b47f112075a",
   "metadata": {},
   "source": [
    "To access our endpoints using python, simply use `requests` library followed by the request method (post, get, put, delete, etc) the passed in the url or data "
   ]
  },
  {
   "cell_type": "code",
   "execution_count": 86,
   "id": "f1a3ebbe-591d-4b38-b858-6ef1ea787d74",
   "metadata": {},
   "outputs": [],
   "source": [
    "url = 'http://127.0.0.1:5000/stations/'\n",
    "res = requests.get(url)"
   ]
  },
  {
   "cell_type": "code",
   "execution_count": 79,
   "id": "64a3ec96",
   "metadata": {},
   "outputs": [
    {
     "data": {
      "text/plain": [
       "<Response [200]>"
      ]
     },
     "execution_count": 79,
     "metadata": {},
     "output_type": "execute_result"
    }
   ],
   "source": [
    "res"
   ]
  },
  {
   "cell_type": "markdown",
   "id": "9a74d722-50f9-4c1c-9fca-ab8708cf9848",
   "metadata": {},
   "source": [
    "The response sent by the server was not only contains bare data. It was packed as HTTP response, meaning that we need to unpack the response first  in order to get the data. we can use `res.json()` to obtain it, then use pandas to transform it into dataframe for readibility or future analysis purposes. "
   ]
  },
  {
   "cell_type": "code",
   "execution_count": 83,
   "id": "c2b40a51-3e8f-4991-b58e-70cb3b95f345",
   "metadata": {},
   "outputs": [
    {
     "data": {
      "text/html": [
       "<div>\n",
       "<style scoped>\n",
       "    .dataframe tbody tr th:only-of-type {\n",
       "        vertical-align: middle;\n",
       "    }\n",
       "\n",
       "    .dataframe tbody tr th {\n",
       "        vertical-align: top;\n",
       "    }\n",
       "\n",
       "    .dataframe thead th {\n",
       "        text-align: right;\n",
       "    }\n",
       "</style>\n",
       "<table border=\"1\" class=\"dataframe\">\n",
       "  <thead>\n",
       "    <tr style=\"text-align: right;\">\n",
       "      <th></th>\n",
       "      <th>station_id</th>\n",
       "      <th>name</th>\n",
       "      <th>status</th>\n",
       "      <th>address</th>\n",
       "      <th>alternate_name</th>\n",
       "      <th>city_asset_number</th>\n",
       "      <th>property_type</th>\n",
       "      <th>number_of_docks</th>\n",
       "      <th>power_type</th>\n",
       "      <th>footprint_length</th>\n",
       "      <th>footprint_width</th>\n",
       "      <th>notes</th>\n",
       "      <th>council_district</th>\n",
       "      <th>modified_date</th>\n",
       "    </tr>\n",
       "  </thead>\n",
       "  <tbody>\n",
       "    <tr>\n",
       "      <th>0</th>\n",
       "      <td>2500</td>\n",
       "      <td>Republic Square</td>\n",
       "      <td>closed</td>\n",
       "      <td>425 W 4th Street</td>\n",
       "      <td></td>\n",
       "      <td></td>\n",
       "      <td></td>\n",
       "      <td></td>\n",
       "      <td></td>\n",
       "      <td></td>\n",
       "      <td></td>\n",
       "      <td></td>\n",
       "      <td>9</td>\n",
       "      <td>2021-01-04T12:00:00Z</td>\n",
       "    </tr>\n",
       "    <tr>\n",
       "      <th>1</th>\n",
       "      <td>2546</td>\n",
       "      <td>ACC - West &amp; 12th Street</td>\n",
       "      <td>closed</td>\n",
       "      <td>1231 West Ave.</td>\n",
       "      <td></td>\n",
       "      <td></td>\n",
       "      <td></td>\n",
       "      <td></td>\n",
       "      <td></td>\n",
       "      <td></td>\n",
       "      <td></td>\n",
       "      <td></td>\n",
       "      <td>9</td>\n",
       "      <td>2021-01-04T12:00:00Z</td>\n",
       "    </tr>\n",
       "    <tr>\n",
       "      <th>2</th>\n",
       "      <td>2541</td>\n",
       "      <td>State Capitol @ 14th &amp; Colorado</td>\n",
       "      <td>closed</td>\n",
       "      <td>206 W. 14th St.</td>\n",
       "      <td></td>\n",
       "      <td></td>\n",
       "      <td></td>\n",
       "      <td></td>\n",
       "      <td></td>\n",
       "      <td></td>\n",
       "      <td></td>\n",
       "      <td></td>\n",
       "      <td>1</td>\n",
       "      <td>2021-01-04T12:00:00Z</td>\n",
       "    </tr>\n",
       "    <tr>\n",
       "      <th>3</th>\n",
       "      <td>2545</td>\n",
       "      <td>ACC - Rio Grande &amp; 12th</td>\n",
       "      <td>closed</td>\n",
       "      <td>700 W. 12th St.</td>\n",
       "      <td></td>\n",
       "      <td></td>\n",
       "      <td></td>\n",
       "      <td></td>\n",
       "      <td></td>\n",
       "      <td></td>\n",
       "      <td></td>\n",
       "      <td></td>\n",
       "      <td>9</td>\n",
       "      <td>2021-01-04T12:00:00Z</td>\n",
       "    </tr>\n",
       "    <tr>\n",
       "      <th>4</th>\n",
       "      <td>2550</td>\n",
       "      <td>Republic Square @ Guadalupe &amp; 4th St.</td>\n",
       "      <td>closed</td>\n",
       "      <td>Presented by Austin Ventures</td>\n",
       "      <td></td>\n",
       "      <td></td>\n",
       "      <td></td>\n",
       "      <td></td>\n",
       "      <td></td>\n",
       "      <td></td>\n",
       "      <td></td>\n",
       "      <td></td>\n",
       "      <td>9</td>\n",
       "      <td>2021-01-04T12:00:00Z</td>\n",
       "    </tr>\n",
       "  </tbody>\n",
       "</table>\n",
       "</div>"
      ],
      "text/plain": [
       "   station_id                                   name  status  \\\n",
       "0        2500                        Republic Square  closed   \n",
       "1        2546               ACC - West & 12th Street  closed   \n",
       "2        2541        State Capitol @ 14th & Colorado  closed   \n",
       "3        2545                ACC - Rio Grande & 12th  closed   \n",
       "4        2550  Republic Square @ Guadalupe & 4th St.  closed   \n",
       "\n",
       "                        address alternate_name city_asset_number  \\\n",
       "0              425 W 4th Street                                    \n",
       "1                1231 West Ave.                                    \n",
       "2               206 W. 14th St.                                    \n",
       "3               700 W. 12th St.                                    \n",
       "4  Presented by Austin Ventures                                    \n",
       "\n",
       "  property_type number_of_docks power_type footprint_length footprint_width  \\\n",
       "0                                                                             \n",
       "1                                                                             \n",
       "2                                                                             \n",
       "3                                                                             \n",
       "4                                                                             \n",
       "\n",
       "  notes  council_district         modified_date  \n",
       "0                       9  2021-01-04T12:00:00Z  \n",
       "1                       9  2021-01-04T12:00:00Z  \n",
       "2                       1  2021-01-04T12:00:00Z  \n",
       "3                       9  2021-01-04T12:00:00Z  \n",
       "4                       9  2021-01-04T12:00:00Z  "
      ]
     },
     "execution_count": 83,
     "metadata": {},
     "output_type": "execute_result"
    }
   ],
   "source": [
    "pd.DataFrame(res.json())#.head()"
   ]
  },
  {
   "cell_type": "code",
   "execution_count": 81,
   "id": "729bb7ac",
   "metadata": {},
   "outputs": [],
   "source": [
    "url_trips = 'http://127.0.0.1:5000/trips/'\n",
    "res_trips = requests.get(url_trips)"
   ]
  },
  {
   "cell_type": "code",
   "execution_count": 82,
   "id": "c6cdb196",
   "metadata": {},
   "outputs": [
    {
     "data": {
      "text/plain": [
       "<Response [200]>"
      ]
     },
     "execution_count": 82,
     "metadata": {},
     "output_type": "execute_result"
    }
   ],
   "source": [
    "res_trips"
   ]
  },
  {
   "cell_type": "code",
   "execution_count": 85,
   "id": "bb6cccb5",
   "metadata": {},
   "outputs": [
    {
     "data": {
      "text/html": [
       "<div>\n",
       "<style scoped>\n",
       "    .dataframe tbody tr th:only-of-type {\n",
       "        vertical-align: middle;\n",
       "    }\n",
       "\n",
       "    .dataframe tbody tr th {\n",
       "        vertical-align: top;\n",
       "    }\n",
       "\n",
       "    .dataframe thead th {\n",
       "        text-align: right;\n",
       "    }\n",
       "</style>\n",
       "<table border=\"1\" class=\"dataframe\">\n",
       "  <thead>\n",
       "    <tr style=\"text-align: right;\">\n",
       "      <th></th>\n",
       "      <th>id</th>\n",
       "      <th>subscriber_type</th>\n",
       "      <th>bikeid</th>\n",
       "      <th>start_time</th>\n",
       "      <th>start_station_id</th>\n",
       "      <th>start_station_name</th>\n",
       "      <th>end_station_id</th>\n",
       "      <th>end_station_name</th>\n",
       "      <th>duration_minutes</th>\n",
       "    </tr>\n",
       "  </thead>\n",
       "  <tbody>\n",
       "    <tr>\n",
       "      <th>0</th>\n",
       "      <td>9900289692</td>\n",
       "      <td>Walk Up</td>\n",
       "      <td>248</td>\n",
       "      <td>2015-10-02 21:12:01 UTC</td>\n",
       "      <td>1006</td>\n",
       "      <td>Zilker Park West</td>\n",
       "      <td>1008</td>\n",
       "      <td>Nueces @ 3rd</td>\n",
       "      <td>39</td>\n",
       "    </tr>\n",
       "    <tr>\n",
       "      <th>1</th>\n",
       "      <td>9900285987</td>\n",
       "      <td>24-Hour Kiosk (Austin B-cycle)</td>\n",
       "      <td>446</td>\n",
       "      <td>2014-10-26 15:12:00 UTC</td>\n",
       "      <td>2712</td>\n",
       "      <td>Toomey Rd @ South Lamar</td>\n",
       "      <td>2712</td>\n",
       "      <td>Toomey Rd @ South Lamar</td>\n",
       "      <td>31</td>\n",
       "    </tr>\n",
       "    <tr>\n",
       "      <th>2</th>\n",
       "      <td>9900285989</td>\n",
       "      <td>24-Hour Kiosk (Austin B-cycle)</td>\n",
       "      <td>203</td>\n",
       "      <td>2014-10-26 15:12:00 UTC</td>\n",
       "      <td>2712</td>\n",
       "      <td>Toomey Rd @ South Lamar</td>\n",
       "      <td>2712</td>\n",
       "      <td>Toomey Rd @ South Lamar</td>\n",
       "      <td>31</td>\n",
       "    </tr>\n",
       "    <tr>\n",
       "      <th>3</th>\n",
       "      <td>9900285991</td>\n",
       "      <td>24-Hour Kiosk (Austin B-cycle)</td>\n",
       "      <td>101</td>\n",
       "      <td>2014-10-26 15:12:00 UTC</td>\n",
       "      <td>2712</td>\n",
       "      <td>Toomey Rd @ South Lamar</td>\n",
       "      <td>2712</td>\n",
       "      <td>Toomey Rd @ South Lamar</td>\n",
       "      <td>30</td>\n",
       "    </tr>\n",
       "    <tr>\n",
       "      <th>4</th>\n",
       "      <td>9900286140</td>\n",
       "      <td>24-Hour Kiosk (Austin B-cycle)</td>\n",
       "      <td>242</td>\n",
       "      <td>2014-10-26 18:12:00 UTC</td>\n",
       "      <td>2541</td>\n",
       "      <td>State Capitol @ 14th &amp; Colorado</td>\n",
       "      <td>2541</td>\n",
       "      <td>State Capitol @ 14th &amp; Colorado</td>\n",
       "      <td>19</td>\n",
       "    </tr>\n",
       "  </tbody>\n",
       "</table>\n",
       "</div>"
      ],
      "text/plain": [
       "           id                 subscriber_type bikeid               start_time  \\\n",
       "0  9900289692                         Walk Up    248  2015-10-02 21:12:01 UTC   \n",
       "1  9900285987  24-Hour Kiosk (Austin B-cycle)    446  2014-10-26 15:12:00 UTC   \n",
       "2  9900285989  24-Hour Kiosk (Austin B-cycle)    203  2014-10-26 15:12:00 UTC   \n",
       "3  9900285991  24-Hour Kiosk (Austin B-cycle)    101  2014-10-26 15:12:00 UTC   \n",
       "4  9900286140  24-Hour Kiosk (Austin B-cycle)    242  2014-10-26 18:12:00 UTC   \n",
       "\n",
       "   start_station_id               start_station_name  end_station_id  \\\n",
       "0              1006                 Zilker Park West            1008   \n",
       "1              2712          Toomey Rd @ South Lamar            2712   \n",
       "2              2712          Toomey Rd @ South Lamar            2712   \n",
       "3              2712          Toomey Rd @ South Lamar            2712   \n",
       "4              2541  State Capitol @ 14th & Colorado            2541   \n",
       "\n",
       "                  end_station_name  duration_minutes  \n",
       "0                     Nueces @ 3rd                39  \n",
       "1          Toomey Rd @ South Lamar                31  \n",
       "2          Toomey Rd @ South Lamar                31  \n",
       "3          Toomey Rd @ South Lamar                30  \n",
       "4  State Capitol @ 14th & Colorado                19  "
      ]
     },
     "execution_count": 85,
     "metadata": {},
     "output_type": "execute_result"
    }
   ],
   "source": [
    "pd.DataFrame(res_trips.json())#.head()"
   ]
  },
  {
   "cell_type": "markdown",
   "id": "adbd0b76-5fa5-4b0e-acfa-85774528130f",
   "metadata": {},
   "source": [
    "## Static and Dynamic Endpoints"
   ]
  },
  {
   "cell_type": "markdown",
   "id": "479eec15-63e3-421a-8227-0d46b6a7349c",
   "metadata": {},
   "source": [
    "On previous part we already made several endpoints which control how our server will react whenever users access it. \n",
    "If we take a look at the endpoints, it's all static : \n",
    "- `@app.route('/')`\n",
    "- `@app.route('/home/')`\n",
    "- `@app.route('/stations/')`\n",
    "- `@app.route('/trips/')`\n",
    "\n",
    "\n",
    "What if, instead of getting all the stations information, we only wanted to read a specific station information of station_id 3464 ? \\\n",
    "should we make an excact endpoint of that like `@app.route('stations/3464')`?. But what about the others? are we going to make a bunch of endpoints for each specific id like: \n",
    "- `@app.route('/stations/3464')`\n",
    "- `@app.route('/stations/2500')`\n",
    "- `@app.route('/stations/2541')`\n",
    "- and so on...\n",
    "\n",
    "Of course we shouldn't. One way to overcome the problem is by delcaring a **dynamic endpoints**. Basically, it's an endpoint which allows user to insert a variable values in it. The final looks of the dynamic endpoint version of above problem is: \n",
    "- `@app.route('stations/<station_id>')`\n",
    "\n",
    "From above endpoint, the \\<station_id\\> is the variable, and we need to make sure that it influence how our following function acts. The whole dynamic endpoints for getting specific station by its id will looks like: \n",
    "\n",
    "```python \n",
    "@app.route('/stations/<station_id>')\n",
    "def route_stations_id(station_id):\n",
    "    conn = make_connection()\n",
    "    station = get_station_id(station_id, conn)\n",
    "    return station.to_json()\n",
    "```"
   ]
  },
  {
   "cell_type": "markdown",
   "id": "4a91fb67-4645-4097-b266-e1c8f77c8b5d",
   "metadata": {},
   "source": [
    "Before accesing the endpoint, make sure that `make_connection()` and `get_station_id()` functions are included inside `app.py` script so that it won't raise an error. Now for the final step, we can try to access the dynamic endpoints by changing the `station_id` in the following codes"
   ]
  },
  {
   "cell_type": "code",
   "execution_count": 87,
   "id": "3d97afd6-6673-46c2-9ea8-6920dca5eba4",
   "metadata": {},
   "outputs": [],
   "source": [
    "station_id = 2500\n",
    "url = f\"http://127.0.0.1:5000/stations/{station_id}\""
   ]
  },
  {
   "cell_type": "code",
   "execution_count": 94,
   "id": "c948b850-fd61-4e3c-9b54-45c8741c3d21",
   "metadata": {
    "scrolled": true
   },
   "outputs": [
    {
     "data": {
      "text/html": [
       "<div>\n",
       "<style scoped>\n",
       "    .dataframe tbody tr th:only-of-type {\n",
       "        vertical-align: middle;\n",
       "    }\n",
       "\n",
       "    .dataframe tbody tr th {\n",
       "        vertical-align: top;\n",
       "    }\n",
       "\n",
       "    .dataframe thead th {\n",
       "        text-align: right;\n",
       "    }\n",
       "</style>\n",
       "<table border=\"1\" class=\"dataframe\">\n",
       "  <thead>\n",
       "    <tr style=\"text-align: right;\">\n",
       "      <th></th>\n",
       "      <th>station_id</th>\n",
       "      <th>name</th>\n",
       "      <th>status</th>\n",
       "      <th>address</th>\n",
       "      <th>alternate_name</th>\n",
       "      <th>city_asset_number</th>\n",
       "      <th>property_type</th>\n",
       "      <th>number_of_docks</th>\n",
       "      <th>power_type</th>\n",
       "      <th>footprint_length</th>\n",
       "      <th>footprint_width</th>\n",
       "      <th>notes</th>\n",
       "      <th>council_district</th>\n",
       "      <th>modified_date</th>\n",
       "    </tr>\n",
       "  </thead>\n",
       "  <tbody>\n",
       "    <tr>\n",
       "      <th>0</th>\n",
       "      <td>2500</td>\n",
       "      <td>Republic Square</td>\n",
       "      <td>closed</td>\n",
       "      <td>425 W 4th Street</td>\n",
       "      <td></td>\n",
       "      <td></td>\n",
       "      <td></td>\n",
       "      <td></td>\n",
       "      <td></td>\n",
       "      <td></td>\n",
       "      <td></td>\n",
       "      <td></td>\n",
       "      <td>9</td>\n",
       "      <td>2021-01-04T12:00:00Z</td>\n",
       "    </tr>\n",
       "  </tbody>\n",
       "</table>\n",
       "</div>"
      ],
      "text/plain": [
       "   station_id             name  status           address alternate_name  \\\n",
       "0        2500  Republic Square  closed  425 W 4th Street                  \n",
       "\n",
       "  city_asset_number property_type number_of_docks power_type footprint_length  \\\n",
       "0                                                                               \n",
       "\n",
       "  footprint_width notes  council_district         modified_date  \n",
       "0                                       9  2021-01-04T12:00:00Z  "
      ]
     },
     "execution_count": 94,
     "metadata": {},
     "output_type": "execute_result"
    }
   ],
   "source": [
    "response = requests.get(url)\n",
    "pd.DataFrame(response.json())"
   ]
  },
  {
   "cell_type": "markdown",
   "id": "7c5ca64f-b5ae-4fe3-890f-71419a69bfa3",
   "metadata": {},
   "source": [
    "**TASK: Implement dynamic endpoints to read specific trip by its trip_id!** \\\n",
    "Place it under `@app.route('/trips/<trip_id>')` endpoint"
   ]
  },
  {
   "cell_type": "markdown",
   "id": "915be34c",
   "metadata": {},
   "source": [
    "```python \n",
    "@app.route('/trips/<trip_id>')\n",
    "def route_trips_id(trip_id):\n",
    "    conn = make_connection()\n",
    "    trip = get_trip_id(trip_id, conn)\n",
    "    return trip.to_json()\n",
    "\n",
    "def get_trip_id(trip_id, conn):\n",
    "    query = f\"\"\"SELECT * FROM trips WHERE id = {trip_id}\"\"\"\n",
    "    result = pd.read_sql_query(query, conn)\n",
    "    return result\n",
    "```"
   ]
  },
  {
   "cell_type": "code",
   "execution_count": 92,
   "id": "f1d8c707",
   "metadata": {},
   "outputs": [],
   "source": [
    "trip_id = 9900289692\n",
    "url_trip = f\"http://127.0.0.1:5000/trips/{trip_id}\""
   ]
  },
  {
   "cell_type": "code",
   "execution_count": 95,
   "id": "1fb067e1",
   "metadata": {},
   "outputs": [
    {
     "data": {
      "text/html": [
       "<div>\n",
       "<style scoped>\n",
       "    .dataframe tbody tr th:only-of-type {\n",
       "        vertical-align: middle;\n",
       "    }\n",
       "\n",
       "    .dataframe tbody tr th {\n",
       "        vertical-align: top;\n",
       "    }\n",
       "\n",
       "    .dataframe thead th {\n",
       "        text-align: right;\n",
       "    }\n",
       "</style>\n",
       "<table border=\"1\" class=\"dataframe\">\n",
       "  <thead>\n",
       "    <tr style=\"text-align: right;\">\n",
       "      <th></th>\n",
       "      <th>id</th>\n",
       "      <th>subscriber_type</th>\n",
       "      <th>bikeid</th>\n",
       "      <th>start_time</th>\n",
       "      <th>start_station_id</th>\n",
       "      <th>start_station_name</th>\n",
       "      <th>end_station_id</th>\n",
       "      <th>end_station_name</th>\n",
       "      <th>duration_minutes</th>\n",
       "    </tr>\n",
       "  </thead>\n",
       "  <tbody>\n",
       "    <tr>\n",
       "      <th>0</th>\n",
       "      <td>9900289692</td>\n",
       "      <td>Walk Up</td>\n",
       "      <td>248</td>\n",
       "      <td>2015-10-02 21:12:01 UTC</td>\n",
       "      <td>1006</td>\n",
       "      <td>Zilker Park West</td>\n",
       "      <td>1008</td>\n",
       "      <td>Nueces @ 3rd</td>\n",
       "      <td>39</td>\n",
       "    </tr>\n",
       "  </tbody>\n",
       "</table>\n",
       "</div>"
      ],
      "text/plain": [
       "           id subscriber_type bikeid               start_time  \\\n",
       "0  9900289692         Walk Up    248  2015-10-02 21:12:01 UTC   \n",
       "\n",
       "   start_station_id start_station_name  end_station_id end_station_name  \\\n",
       "0              1006   Zilker Park West            1008     Nueces @ 3rd   \n",
       "\n",
       "   duration_minutes  \n",
       "0                39  "
      ]
     },
     "execution_count": 95,
     "metadata": {},
     "output_type": "execute_result"
    }
   ],
   "source": [
    "response_trip = requests.get(url_trip)\n",
    "pd.DataFrame(response_trip.json())"
   ]
  },
  {
   "cell_type": "markdown",
   "id": "52ec2ce8-6950-4c20-9bdb-38e35311d26a",
   "metadata": {},
   "source": [
    "## Handling JSON data as input"
   ]
  },
  {
   "cell_type": "markdown",
   "id": "d694cb3a-c753-4aeb-880f-458236146532",
   "metadata": {},
   "source": [
    "Sometimes, in order to make something happens in our API, we need the user to send us the data. In this case, we need to handle how we can get the data (which mostly sent as json format) and utilize it inside our endpoint functions. \n",
    "\n",
    "In order to achieve that, we will be using flask's `request` classes.\n",
    "\n",
    "\n",
    "```python\n",
    "@app.route('/json') \n",
    "def json_example():\n",
    "    \n",
    "    req = request.get_json(force=True) # Parse the incoming json data as Dictionary\n",
    "    \n",
    "    name = req['name']\n",
    "    age = req['age']\n",
    "    address = req['address']\n",
    "    \n",
    "    return (f'''Hello {name}, your age is {age}, and your address in {address}\n",
    "            ''')\n",
    "```"
   ]
  },
  {
   "cell_type": "code",
   "execution_count": 96,
   "id": "33519e1a-3cd1-4abc-9a20-c2d981fad894",
   "metadata": {},
   "outputs": [],
   "source": [
    "data = {\n",
    "    \"name\" : \"Andi\", \n",
    "    \"age\" : 24,\n",
    "    \"address\" : \"my adress\"\n",
    "}\n",
    "\n",
    "url = \"http://127.0.0.1:5000/json\""
   ]
  },
  {
   "cell_type": "code",
   "execution_count": 106,
   "id": "9b66724f-6439-4aec-a8b5-48b4a781521b",
   "metadata": {},
   "outputs": [],
   "source": [
    "res = requests.post(url, json=data)"
   ]
  },
  {
   "cell_type": "code",
   "execution_count": 107,
   "id": "3e0f21c9-402a-4b12-bcc7-4c4534f23e5c",
   "metadata": {},
   "outputs": [
    {
     "data": {
      "text/plain": [
       "<Response [200]>"
      ]
     },
     "execution_count": 107,
     "metadata": {},
     "output_type": "execute_result"
    }
   ],
   "source": [
    "res"
   ]
  },
  {
   "cell_type": "code",
   "execution_count": 108,
   "id": "59d76173-58d9-4e38-a50d-a1ac72c3519f",
   "metadata": {},
   "outputs": [
    {
     "data": {
      "text/plain": [
       "'Hello Andi, your age is 24, and your address in my adress\\n            '"
      ]
     },
     "execution_count": 108,
     "metadata": {},
     "output_type": "execute_result"
    }
   ],
   "source": [
    "res.text"
   ]
  },
  {
   "cell_type": "markdown",
   "id": "188e3467-bff8-4919-bc90-a86cb8c4eaff",
   "metadata": {},
   "source": [
    "Now that we already know how to handle json input, we can try to implement and endpoint in which we can insert new data into `stations` table. "
   ]
  },
  {
   "cell_type": "markdown",
   "id": "1729b881-beac-48ef-bc19-01cda9a6d77a",
   "metadata": {},
   "source": [
    "```python\n",
    "\n",
    "@app.route('/stations/add', methods=['POST']) \n",
    "def route_add_station():\n",
    "    # parse and transform incoming data into a tuple as we need \n",
    "    data = pd.Series(eval(request.get_json(force=True)))\n",
    "    data = tuple(data.fillna('').values)\n",
    "    \n",
    "    conn = make_connection()\n",
    "    result = insert_into_stations(data, conn)\n",
    "    return result\n",
    "\n",
    "\n",
    "```"
   ]
  },
  {
   "cell_type": "code",
   "execution_count": 109,
   "id": "00348fc5-105b-41c7-a5e6-e69e1c19b4fa",
   "metadata": {},
   "outputs": [],
   "source": [
    "class NpEncoder(json.JSONEncoder):\n",
    "    def default(self, obj):\n",
    "        if isinstance(obj, np.integer):\n",
    "            return int(obj)\n",
    "        if isinstance(obj, np.floating):\n",
    "            return float(obj)\n",
    "        if isinstance(obj, np.ndarray):\n",
    "            return obj.tolist()\n",
    "        return super(NpEncoder, self).default(obj)"
   ]
  },
  {
   "cell_type": "code",
   "execution_count": 110,
   "id": "12746054-6c95-4a95-a6a0-37a2dc24c347",
   "metadata": {},
   "outputs": [],
   "source": [
    "data = stations.iloc[20].fillna('').to_dict()\n",
    "data_json = json.dumps(data, cls=NpEncoder)"
   ]
  },
  {
   "cell_type": "code",
   "execution_count": 114,
   "id": "d5e8f1ce",
   "metadata": {},
   "outputs": [
    {
     "data": {
      "text/plain": [
       "{'station_id': 2502,\n",
       " 'name': 'Barton Springs & Riverside',\n",
       " 'status': 'closed',\n",
       " 'address': '400 Barton Springs Rd.',\n",
       " 'alternate_name': '',\n",
       " 'city_asset_number': '',\n",
       " 'property_type': ' ',\n",
       " 'number_of_docks': '',\n",
       " 'power_type': ' ',\n",
       " 'footprint_length': '',\n",
       " 'footprint_width': '',\n",
       " 'notes': 'moved to Pedernales/2nd. Original city ID: 16729',\n",
       " 'council_district': 9,\n",
       " 'modified_date': '2021-01-04T12:00:00Z'}"
      ]
     },
     "execution_count": 114,
     "metadata": {},
     "output_type": "execute_result"
    }
   ],
   "source": [
    "data"
   ]
  },
  {
   "cell_type": "code",
   "execution_count": 111,
   "id": "b9eef315-96d2-46e3-b5ab-07d34e299629",
   "metadata": {},
   "outputs": [],
   "source": [
    "url = \"http://127.0.0.1:5000/stations/add\"\n",
    "res = requests.post(url, json=data_json)"
   ]
  },
  {
   "cell_type": "code",
   "execution_count": 112,
   "id": "fa80e62f-75c4-47f5-a0fb-3eaa08200b66",
   "metadata": {},
   "outputs": [
    {
     "data": {
      "text/plain": [
       "<Response [200]>"
      ]
     },
     "execution_count": 112,
     "metadata": {},
     "output_type": "execute_result"
    }
   ],
   "source": [
    "res"
   ]
  },
  {
   "cell_type": "code",
   "execution_count": 113,
   "id": "8996edb2",
   "metadata": {},
   "outputs": [
    {
     "data": {
      "text/plain": [
       "'OK'"
      ]
     },
     "execution_count": 113,
     "metadata": {},
     "output_type": "execute_result"
    }
   ],
   "source": [
    "res.text"
   ]
  },
  {
   "cell_type": "code",
   "execution_count": 115,
   "id": "7a0d3ece-e370-4861-9c03-31361c394c01",
   "metadata": {},
   "outputs": [
    {
     "name": "stderr",
     "output_type": "stream",
     "text": [
      "98it [00:14,  6.78it/s]\n"
     ]
    }
   ],
   "source": [
    "# Sintaks for iteratively insert stations (from stations_csv) into stations table\n",
    "\n",
    "for idx, data in tqdm(stations.iterrows()):\n",
    "    data = data.fillna('').to_dict()\n",
    "    data_json = json.dumps(data, cls=NpEncoder)\n",
    "    \n",
    "    url = \"http://127.0.0.1:5000/stations/add\"\n",
    "    res = requests.post(url, json=data_json)"
   ]
  },
  {
   "cell_type": "markdown",
   "id": "f7d0f146-9af5-4873-816e-d7a1990d0d2e",
   "metadata": {},
   "source": [
    "**TASK: Using the API, insert all the trips data (in csv) into the database by running the following codes**\\\n",
    "It might run differently on each devices, so you might get some rest while waiting for it to complete"
   ]
  },
  {
   "cell_type": "code",
   "execution_count": 119,
   "id": "f943160a-230d-4548-8685-25c17d8f0641",
   "metadata": {},
   "outputs": [
    {
     "name": "stderr",
     "output_type": "stream",
     "text": [
      "17982it [55:22,  5.41it/s]\n"
     ]
    }
   ],
   "source": [
    "for idx, data in tqdm(trips.iterrows()):\n",
    "    data = data.fillna('').to_dict()\n",
    "    data_json = json.dumps(data, cls=NpEncoder)\n",
    "    \n",
    "    url = \"http://127.0.0.1:5000/trips/add\"\n",
    "    res = requests.post(url, json=data_json)"
   ]
  },
  {
   "cell_type": "code",
   "execution_count": 122,
   "id": "7f4adf19",
   "metadata": {
    "scrolled": true
   },
   "outputs": [
    {
     "data": {
      "text/plain": [
       "<Response [200]>"
      ]
     },
     "execution_count": 122,
     "metadata": {},
     "output_type": "execute_result"
    }
   ],
   "source": [
    "res"
   ]
  },
  {
   "cell_type": "markdown",
   "id": "e9ca0d0f-f38d-4ce2-b7e2-961452ab315e",
   "metadata": {},
   "source": [
    "# Make your own analytic endpoints"
   ]
  },
  {
   "cell_type": "markdown",
   "id": "7a8500f2-9e2f-4515-8ce1-ce4a581132b5",
   "metadata": {},
   "source": [
    "Based on what we've learned before, create your own endpoints which returns analytical result such as contigency tables, aggregation tables, or even just a values.\n",
    "\n",
    "*ps: if the return is dataframe/series, don't forget to change it into json with `.to_json()` method*"
   ]
  },
  {
   "cell_type": "markdown",
   "id": "ce22ac68-1a8d-4030-9a9a-1764a074dde5",
   "metadata": {},
   "source": [
    "\n",
    "- [x] 1 point - Created Flask App\n",
    "- [x] 4 points - Created functionality to input new data into each table for the databases\n",
    "- [x] 2 poitns - Created functionality to read or get specific data from the database\n",
    "- [ ] 3 points - Created static endpoints which return analytical result (must be different from point 2,3)\n",
    "- [ ] 3 points - Created dynamic endpoints which return analytical result (must be different from point 2,3,4)\n",
    "- [ ] 3 points - Created POST endpoint which receive input data, then utilize it to get analytical result (must be different from point 2,3,4,5)\n"
   ]
  },
  {
   "cell_type": "markdown",
   "id": "9349b196-e43e-4bbc-8d71-75c2f957d9af",
   "metadata": {},
   "source": [
    "## Create Static Endpoint(s)"
   ]
  },
  {
   "cell_type": "markdown",
   "id": "0ba0e764-89a5-4189-a24a-837c8fbf304c",
   "metadata": {},
   "source": [
    "You can use the following cell to try-out your function before implementing it as an endpoint"
   ]
  },
  {
   "cell_type": "code",
   "execution_count": 125,
   "id": "c1845b1a",
   "metadata": {},
   "outputs": [
    {
     "data": {
      "text/html": [
       "<div>\n",
       "<style scoped>\n",
       "    .dataframe tbody tr th:only-of-type {\n",
       "        vertical-align: middle;\n",
       "    }\n",
       "\n",
       "    .dataframe tbody tr th {\n",
       "        vertical-align: top;\n",
       "    }\n",
       "\n",
       "    .dataframe thead th {\n",
       "        text-align: right;\n",
       "    }\n",
       "</style>\n",
       "<table border=\"1\" class=\"dataframe\">\n",
       "  <thead>\n",
       "    <tr style=\"text-align: right;\">\n",
       "      <th></th>\n",
       "      <th>station_id</th>\n",
       "      <th>name</th>\n",
       "      <th>status</th>\n",
       "      <th>address</th>\n",
       "      <th>alternate_name</th>\n",
       "      <th>city_asset_number</th>\n",
       "      <th>property_type</th>\n",
       "      <th>number_of_docks</th>\n",
       "      <th>power_type</th>\n",
       "      <th>footprint_length</th>\n",
       "      <th>footprint_width</th>\n",
       "      <th>notes</th>\n",
       "      <th>council_district</th>\n",
       "      <th>modified_date</th>\n",
       "    </tr>\n",
       "  </thead>\n",
       "  <tbody>\n",
       "    <tr>\n",
       "      <th>0</th>\n",
       "      <td>3464</td>\n",
       "      <td>Pease Park</td>\n",
       "      <td>closed</td>\n",
       "      <td>1155 Kingsbury St</td>\n",
       "      <td>NaN</td>\n",
       "      <td>NaN</td>\n",
       "      <td>NaN</td>\n",
       "      <td>NaN</td>\n",
       "      <td>NaN</td>\n",
       "      <td>NaN</td>\n",
       "      <td>NaN</td>\n",
       "      <td>NaN</td>\n",
       "      <td>9</td>\n",
       "      <td>2021-01-04T12:00:00Z</td>\n",
       "    </tr>\n",
       "    <tr>\n",
       "      <th>1</th>\n",
       "      <td>2500</td>\n",
       "      <td>Republic Square</td>\n",
       "      <td>closed</td>\n",
       "      <td>425 W 4th Street</td>\n",
       "      <td>NaN</td>\n",
       "      <td>NaN</td>\n",
       "      <td>NaN</td>\n",
       "      <td>NaN</td>\n",
       "      <td>NaN</td>\n",
       "      <td>NaN</td>\n",
       "      <td>NaN</td>\n",
       "      <td>NaN</td>\n",
       "      <td>9</td>\n",
       "      <td>2021-01-04T12:00:00Z</td>\n",
       "    </tr>\n",
       "    <tr>\n",
       "      <th>2</th>\n",
       "      <td>2536</td>\n",
       "      <td>Waller &amp; 6th St.</td>\n",
       "      <td>closed</td>\n",
       "      <td>602 Waller St.</td>\n",
       "      <td>NaN</td>\n",
       "      <td>NaN</td>\n",
       "      <td>NaN</td>\n",
       "      <td>NaN</td>\n",
       "      <td>NaN</td>\n",
       "      <td>NaN</td>\n",
       "      <td>NaN</td>\n",
       "      <td>NaN</td>\n",
       "      <td>3</td>\n",
       "      <td>2021-01-04T12:00:00Z</td>\n",
       "    </tr>\n",
       "    <tr>\n",
       "      <th>3</th>\n",
       "      <td>2538</td>\n",
       "      <td>Bullock Museum @ Congress &amp; MLK</td>\n",
       "      <td>closed</td>\n",
       "      <td>1881 Congress Ave.</td>\n",
       "      <td>NaN</td>\n",
       "      <td>NaN</td>\n",
       "      <td>NaN</td>\n",
       "      <td>NaN</td>\n",
       "      <td>NaN</td>\n",
       "      <td>NaN</td>\n",
       "      <td>NaN</td>\n",
       "      <td>NaN</td>\n",
       "      <td>1</td>\n",
       "      <td>2021-01-04T12:00:00Z</td>\n",
       "    </tr>\n",
       "    <tr>\n",
       "      <th>4</th>\n",
       "      <td>2541</td>\n",
       "      <td>State Capitol @ 14th &amp; Colorado</td>\n",
       "      <td>closed</td>\n",
       "      <td>206 W. 14th St.</td>\n",
       "      <td>NaN</td>\n",
       "      <td>NaN</td>\n",
       "      <td>NaN</td>\n",
       "      <td>NaN</td>\n",
       "      <td>NaN</td>\n",
       "      <td>NaN</td>\n",
       "      <td>NaN</td>\n",
       "      <td>NaN</td>\n",
       "      <td>1</td>\n",
       "      <td>2021-01-04T12:00:00Z</td>\n",
       "    </tr>\n",
       "  </tbody>\n",
       "</table>\n",
       "</div>"
      ],
      "text/plain": [
       "   station_id                             name  status             address  \\\n",
       "0        3464                       Pease Park  closed   1155 Kingsbury St   \n",
       "1        2500                  Republic Square  closed    425 W 4th Street   \n",
       "2        2536                 Waller & 6th St.  closed      602 Waller St.   \n",
       "3        2538  Bullock Museum @ Congress & MLK  closed  1881 Congress Ave.   \n",
       "4        2541  State Capitol @ 14th & Colorado  closed     206 W. 14th St.   \n",
       "\n",
       "  alternate_name  city_asset_number property_type  number_of_docks power_type  \\\n",
       "0            NaN                NaN           NaN              NaN        NaN   \n",
       "1            NaN                NaN           NaN              NaN        NaN   \n",
       "2            NaN                NaN           NaN              NaN        NaN   \n",
       "3            NaN                NaN           NaN              NaN        NaN   \n",
       "4            NaN                NaN           NaN              NaN        NaN   \n",
       "\n",
       "   footprint_length  footprint_width notes  council_district  \\\n",
       "0               NaN              NaN   NaN                 9   \n",
       "1               NaN              NaN   NaN                 9   \n",
       "2               NaN              NaN   NaN                 3   \n",
       "3               NaN              NaN   NaN                 1   \n",
       "4               NaN              NaN   NaN                 1   \n",
       "\n",
       "          modified_date  \n",
       "0  2021-01-04T12:00:00Z  \n",
       "1  2021-01-04T12:00:00Z  \n",
       "2  2021-01-04T12:00:00Z  \n",
       "3  2021-01-04T12:00:00Z  \n",
       "4  2021-01-04T12:00:00Z  "
      ]
     },
     "execution_count": 125,
     "metadata": {},
     "output_type": "execute_result"
    }
   ],
   "source": [
    "stations.head()"
   ]
  },
  {
   "cell_type": "code",
   "execution_count": 126,
   "id": "8931f6f2",
   "metadata": {},
   "outputs": [
    {
     "data": {
      "text/html": [
       "<div>\n",
       "<style scoped>\n",
       "    .dataframe tbody tr th:only-of-type {\n",
       "        vertical-align: middle;\n",
       "    }\n",
       "\n",
       "    .dataframe tbody tr th {\n",
       "        vertical-align: top;\n",
       "    }\n",
       "\n",
       "    .dataframe thead th {\n",
       "        text-align: right;\n",
       "    }\n",
       "</style>\n",
       "<table border=\"1\" class=\"dataframe\">\n",
       "  <thead>\n",
       "    <tr style=\"text-align: right;\">\n",
       "      <th></th>\n",
       "      <th>trip_id</th>\n",
       "      <th>subscriber_type</th>\n",
       "      <th>bikeid</th>\n",
       "      <th>start_time</th>\n",
       "      <th>start_station_id</th>\n",
       "      <th>start_station_name</th>\n",
       "      <th>end_station_id</th>\n",
       "      <th>end_station_name</th>\n",
       "      <th>duration_minutes</th>\n",
       "    </tr>\n",
       "  </thead>\n",
       "  <tbody>\n",
       "    <tr>\n",
       "      <th>0</th>\n",
       "      <td>23455589</td>\n",
       "      <td>Local365</td>\n",
       "      <td>174</td>\n",
       "      <td>2021-01-26 17:47:42 UTC</td>\n",
       "      <td>4059.0</td>\n",
       "      <td>Nash Hernandez/East @ RBJ South</td>\n",
       "      <td>3660.0</td>\n",
       "      <td>East 6th/Medina</td>\n",
       "      <td>7</td>\n",
       "    </tr>\n",
       "    <tr>\n",
       "      <th>1</th>\n",
       "      <td>23459960</td>\n",
       "      <td>Local365</td>\n",
       "      <td>19265</td>\n",
       "      <td>2021-01-28 08:03:52 UTC</td>\n",
       "      <td>4054.0</td>\n",
       "      <td>Rosewood/Chicon</td>\n",
       "      <td>4055.0</td>\n",
       "      <td>11th/Salina</td>\n",
       "      <td>16</td>\n",
       "    </tr>\n",
       "    <tr>\n",
       "      <th>2</th>\n",
       "      <td>23436548</td>\n",
       "      <td>Local365</td>\n",
       "      <td>18331</td>\n",
       "      <td>2021-01-21 07:09:48 UTC</td>\n",
       "      <td>4055.0</td>\n",
       "      <td>11th/Salina</td>\n",
       "      <td>4055.0</td>\n",
       "      <td>11th/Salina</td>\n",
       "      <td>25</td>\n",
       "    </tr>\n",
       "    <tr>\n",
       "      <th>3</th>\n",
       "      <td>23382542</td>\n",
       "      <td>Local365</td>\n",
       "      <td>19682</td>\n",
       "      <td>2021-01-04 09:38:18 UTC</td>\n",
       "      <td>4062.0</td>\n",
       "      <td>Lakeshore/Pleasant Valley</td>\n",
       "      <td>3293.0</td>\n",
       "      <td>East 2nd/Pedernales</td>\n",
       "      <td>5</td>\n",
       "    </tr>\n",
       "    <tr>\n",
       "      <th>4</th>\n",
       "      <td>23374882</td>\n",
       "      <td>Local365</td>\n",
       "      <td>19437</td>\n",
       "      <td>2021-01-02 15:04:01 UTC</td>\n",
       "      <td>3293.0</td>\n",
       "      <td>East 2nd/Pedernales</td>\n",
       "      <td>4062.0</td>\n",
       "      <td>Lakeshore/Pleasant Valley</td>\n",
       "      <td>5</td>\n",
       "    </tr>\n",
       "  </tbody>\n",
       "</table>\n",
       "</div>"
      ],
      "text/plain": [
       "    trip_id subscriber_type bikeid               start_time  start_station_id  \\\n",
       "0  23455589        Local365    174  2021-01-26 17:47:42 UTC            4059.0   \n",
       "1  23459960        Local365  19265  2021-01-28 08:03:52 UTC            4054.0   \n",
       "2  23436548        Local365  18331  2021-01-21 07:09:48 UTC            4055.0   \n",
       "3  23382542        Local365  19682  2021-01-04 09:38:18 UTC            4062.0   \n",
       "4  23374882        Local365  19437  2021-01-02 15:04:01 UTC            3293.0   \n",
       "\n",
       "                start_station_name  end_station_id           end_station_name  \\\n",
       "0  Nash Hernandez/East @ RBJ South          3660.0            East 6th/Medina   \n",
       "1                  Rosewood/Chicon          4055.0               11th/Salina    \n",
       "2                     11th/Salina           4055.0               11th/Salina    \n",
       "3        Lakeshore/Pleasant Valley          3293.0        East 2nd/Pedernales   \n",
       "4              East 2nd/Pedernales          4062.0  Lakeshore/Pleasant Valley   \n",
       "\n",
       "   duration_minutes  \n",
       "0                 7  \n",
       "1                16  \n",
       "2                25  \n",
       "3                 5  \n",
       "4                 5  "
      ]
     },
     "execution_count": 126,
     "metadata": {},
     "output_type": "execute_result"
    }
   ],
   "source": [
    "trips.head()"
   ]
  },
  {
   "cell_type": "code",
   "execution_count": null,
   "id": "8867038e-0ad4-4ea3-94e6-6cf904ea18a8",
   "metadata": {},
   "outputs": [],
   "source": [
    "# TOP 5 average duration \n",
    "@app.route('/trips/average_duration') \n",
    "def average_durations():\n",
    "    conn = make_connection()\n",
    "    average_durations = get_average_durations(conn)\n",
    "    return average_durations.to_json()\n",
    "\n",
    "def get_average_durations(conn):\n",
    "    query = f\"\"\"SELECT * FROM trips\"\"\"\n",
    "    selected_query = pd.read_sql_query(query, conn)\n",
    "    result = selected_query.pivot_table(index='id',values = 'duration_minutes',aggfunc='mean').\\\n",
    "    sort_values('duration_minutes',ascending=False).head()\n",
    "    return result"
   ]
  },
  {
   "cell_type": "code",
   "execution_count": null,
   "id": "9f235b98",
   "metadata": {},
   "outputs": [],
   "source": [
    "#Informasi nama stations yang tersedia/active\n",
    "@app.route('/stations/active')\n",
    "def stations_active():\n",
    "    conn = make_connection()\n",
    "    stations_active = get_stations_active(conn)\n",
    "    return stations_active.to_json()\n",
    "\n",
    "def get_all_stations_open(conn):\n",
    "    query = f\"\"\"SELECT name FROM stations where status = 'active'\"\"\"\n",
    "    result = pd.read_sql_query(query, conn)\n",
    "    return result"
   ]
  },
  {
   "cell_type": "code",
   "execution_count": 121,
   "id": "81b4ea45",
   "metadata": {},
   "outputs": [],
   "source": [
    "# Station yang sering dikunjungi untuk meminjam - TOP 5\n",
    "@app.route('/trip/top_station')\n",
    "def top_station():\n",
    "    conn = make_connection()\n",
    "    top_station = get_top_station(conn)\n",
    "    return top_station.to_json()\n",
    "\n",
    "def get_top_station(conn):\n",
    "    query = f\"\"\"select start_station_name from trips\"\"\"\n",
    "    result1 = pd.read_sql_query(query,conn)\n",
    "    result = pd.crosstab(index=result1['start_station_name'],columns='frekuensi').sort_values('frekuensi',ascending=False).head()\n",
    "    return result"
   ]
  },
  {
   "cell_type": "markdown",
   "id": "3f1c8d87-b066-48dc-b9db-2339aa3693db",
   "metadata": {},
   "source": [
    "## Create Dynamic Endpoints "
   ]
  },
  {
   "cell_type": "markdown",
   "id": "46eecec9-49c8-4c02-835a-cb4a813c41ad",
   "metadata": {},
   "source": [
    "You can use the following cell to try-out your function before implementing it as an endpoint"
   ]
  },
  {
   "cell_type": "code",
   "execution_count": null,
   "id": "9918b0ea-11df-4a03-af50-7138266a4072",
   "metadata": {},
   "outputs": [],
   "source": [
    "# Your Code Here\n",
    "@app.route('/trips/average_duration/<bike_id>')\n",
    "def avg_duration_bike(bike_id):\n",
    "    conn = make_connection()\n",
    "    trip_bike = get_trip_bike(bike_id,conn)\n",
    "    return trip_bike.to_json()\n",
    "\n",
    "def get_trip_bike(bike_id,conn):\n",
    "    query = f\"\"\"SELECT * FROM trips\"\"\"\n",
    "    selected_query = pd.read_sql_query(query, conn)\n",
    "    result1 = selected_query.pivot_table(index='bikeid',values = 'duration_minutes',aggfunc='mean').reset_index()\n",
    "    result = result1[(result1['bikeid']==bike_id)]\n",
    "    return result"
   ]
  },
  {
   "cell_type": "code",
   "execution_count": 214,
   "id": "348a29a6",
   "metadata": {},
   "outputs": [],
   "source": [
    "#station name sesuai address peminjam saat ini\n",
    "@app.route('/stations/search/<address>')\n",
    "def search_station(address):\n",
    "    conn = make_connection()\n",
    "    search_station = get_station_search(address,conn)\n",
    "    return search_station.to_json()\n",
    "\n",
    "def get_station_search(address,conn):\n",
    "    query = f\"\"\"select * from stations where address = {address} \"\"\"\n",
    "    result = pd.read_sql_query(query,conn)\n",
    "    return result"
   ]
  },
  {
   "cell_type": "markdown",
   "id": "712aeb14-8f96-4df5-a2eb-5a42e083dddc",
   "metadata": {},
   "source": [
    "## Create POST Endpoints"
   ]
  },
  {
   "cell_type": "markdown",
   "id": "d518c6a2-6fc7-4eb0-91a7-c7ba25db5bce",
   "metadata": {},
   "source": [
    "You can use the following cell to try-out your function before implementing it as an endpoint.\n",
    "\n",
    "If you still find it quite difficult, here's an example case you might wanted to try on:\n",
    "- input : a dictionary contained a datetime period\n",
    "    - { \"period\" : \"2015-08\" }\n",
    "- output:\n",
    "    - Aggregation table of bike rent activities for each station in that specific period\n",
    "- example code: \n",
    "\n",
    "```python \n",
    "input_data = request.get_json() # Get the input as dictionary\n",
    "specified_date = input_data['period'] # Select specific items (period) from the dictionary (the value will be \"2015-08\")\n",
    "\n",
    "# Subset the data with query \n",
    "conn = make_connection()\n",
    "query = f\"SELECT * FROM stations WHERE start_time LIKE ({specified_date}%)\"\n",
    "selected_data = pd.read_sql_query(query, conn)\n",
    "\n",
    "# Make the aggregate\n",
    "result = selected_data.groupby('start_station_id').agg({\n",
    "    'bikeid' : 'count', \n",
    "    'duration_minutes' : 'mean'\n",
    "})\n",
    "\n",
    "# Return the result\n",
    "return result.to_json()\n",
    "\n",
    "```"
   ]
  },
  {
   "cell_type": "code",
   "execution_count": 256,
   "id": "a6da5d91",
   "metadata": {},
   "outputs": [],
   "source": [
    "data = {\n",
    "    \"period\" : \"2015-08\"\n",
    "}\n",
    "\n",
    "url = \"http://127.0.0.1:5000/json_post\""
   ]
  },
  {
   "cell_type": "code",
   "execution_count": 257,
   "id": "20a96bf5",
   "metadata": {},
   "outputs": [],
   "source": [
    "res = requests.post(url, json=data)"
   ]
  },
  {
   "cell_type": "code",
   "execution_count": 258,
   "id": "cb31911f",
   "metadata": {},
   "outputs": [
    {
     "data": {
      "text/plain": [
       "<Response [200]>"
      ]
     },
     "execution_count": 258,
     "metadata": {},
     "output_type": "execute_result"
    }
   ],
   "source": [
    "res"
   ]
  },
  {
   "cell_type": "code",
   "execution_count": 259,
   "id": "2a2a7299",
   "metadata": {},
   "outputs": [
    {
     "data": {
      "text/plain": [
       "'{\"bikeid\":{\"1007\":91,\"1008\":311,\"2494\":791,\"2495\":590,\"2496\":250,\"2497\":440,\"2498\":427,\"2499\":635,\"2501\":694,\"2502\":422,\"2503\":292,\"2504\":213,\"2536\":106,\"2537\":290,\"2538\":229,\"2539\":394,\"2540\":173,\"2541\":84,\"2542\":147,\"2544\":122,\"2545\":46,\"2547\":119,\"2548\":199,\"2549\":297,\"2550\":296,\"2552\":430,\"2561\":128,\"2562\":193,\"2563\":260,\"2564\":308,\"2565\":249,\"2566\":503,\"2567\":306,\"2568\":112,\"2569\":210,\"2570\":321,\"2571\":150,\"2572\":314,\"2575\":643,\"2576\":226,\"2707\":655,\"2711\":501,\"2712\":241,\"2822\":189,\"2823\":58,\"3291\":50,\"3292\":71,\"3293\":40,\"\":707},\"duration_minutes\":{\"1007\":18.2307692308,\"1008\":13.2379421222,\"2494\":26.0341340076,\"2495\":15.4593220339,\"2496\":27.624,\"2497\":27.4136363636,\"2498\":22.018735363,\"2499\":18.0960629921,\"2501\":15.476945245,\"2502\":31.2819905213,\"2503\":29.0719178082,\"2504\":21.9530516432,\"2536\":32.1509433962,\"2537\":12.1206896552,\"2538\":25.3886462882,\"2539\":22.9035532995,\"2540\":26.9190751445,\"2541\":22.75,\"2542\":14.5238095238,\"2544\":14.8442622951,\"2545\":11.2608695652,\"2547\":52.487394958,\"2548\":35.4522613065,\"2549\":26.0673400673,\"2550\":15.4425675676,\"2552\":9.5860465116,\"2561\":35.359375,\"2562\":30.9430051813,\"2563\":19.8038461538,\"2564\":12.1558441558,\"2565\":17.5421686747,\"2566\":19.5526838966,\"2567\":23.5816993464,\"2568\":16.5178571429,\"2569\":16.5380952381,\"2570\":23.4267912773,\"2571\":16.64,\"2572\":24.9936305732,\"2575\":34.4214618974,\"2576\":33.1504424779,\"2707\":25.6106870229,\"2711\":25.8003992016,\"2712\":19.867219917,\"2822\":12.3015873016,\"2823\":18.2413793103,\"3291\":20.82,\"3292\":13.0563380282,\"3293\":14.525,\"\":33.7538896747}}'"
      ]
     },
     "execution_count": 259,
     "metadata": {},
     "output_type": "execute_result"
    }
   ],
   "source": [
    "res.text"
   ]
  },
  {
   "cell_type": "markdown",
   "id": "1a8b92ce",
   "metadata": {},
   "source": [
    "``` python\n",
    "@app.route('/json_type',methods=['POST']) \n",
    "def json_type():\n",
    "\n",
    "    input_data = request.get_json() # Get the input as dictionary\n",
    "    sub_type = input_data['sub_type']\n",
    "    specified_type = input_data['sub_type']\n",
    "    # Subset the data with query \n",
    "    conn = make_connection()\n",
    "    query = f\"SELECT * FROM trips WHERE subscriber_type = '{specified_type}'\"\n",
    "    selected_data = pd.read_sql_query(query, conn)\n",
    "\n",
    "    # Make the aggregate\n",
    "    result = selected_data.groupby('start_station_id').agg({\n",
    "        'bikeid' : 'count', \n",
    "        'duration_minutes' : 'mean'\n",
    "    })\n",
    "\n",
    "    # Return the result\n",
    "    return result.to_json()\n",
    "```"
   ]
  },
  {
   "cell_type": "code",
   "execution_count": 273,
   "id": "6709eec3",
   "metadata": {},
   "outputs": [],
   "source": [
    "data = {\n",
    "    \"sub_type\" : \"Walk Up\"\n",
    "}\n",
    "\n",
    "url = \"http://127.0.0.1:5000/json_type\""
   ]
  },
  {
   "cell_type": "code",
   "execution_count": 274,
   "id": "d24c9463-77d9-4294-b3f9-73b16391e46a",
   "metadata": {},
   "outputs": [],
   "source": [
    "res = requests.post(url, json=data)"
   ]
  },
  {
   "cell_type": "code",
   "execution_count": 275,
   "id": "96a935ff",
   "metadata": {
    "scrolled": true
   },
   "outputs": [
    {
     "data": {
      "text/plain": [
       "<Response [200]>"
      ]
     },
     "execution_count": 275,
     "metadata": {},
     "output_type": "execute_result"
    }
   ],
   "source": [
    "res"
   ]
  },
  {
   "cell_type": "code",
   "execution_count": 278,
   "id": "545823be",
   "metadata": {
    "scrolled": true
   },
   "outputs": [
    {
     "data": {
      "text/plain": [
       "'{\"bikeid\":{\"1006\":1043,\"1007\":1997,\"1008\":1299,\"2494\":16057,\"2495\":9207,\"2496\":5031,\"2497\":14721,\"2498\":9701,\"2499\":11778,\"2500\":54,\"2501\":8234,\"2502\":8008,\"2503\":10330,\"2504\":7572,\"2536\":2069,\"2537\":5240,\"2538\":5707,\"2539\":10150,\"2540\":3013,\"2541\":2650,\"2542\":4331,\"2544\":1954,\"2545\":477,\"2546\":1172,\"2547\":3687,\"2548\":5989,\"2549\":9999,\"2550\":2866,\"2552\":4271,\"2561\":3564,\"2562\":3613,\"2563\":15408,\"2564\":2557,\"2565\":6029,\"2566\":10858,\"2567\":8183,\"2568\":2470,\"2569\":3352,\"2570\":8616,\"2571\":4976,\"2572\":10121,\"2574\":15581,\"2575\":22093,\"2576\":1926,\"2707\":17237,\"2711\":9798,\"2712\":1254,\"2822\":2011,\"2823\":835,\"3291\":1682,\"3292\":2395,\"3293\":2015,\"3294\":961,\"3377\":9855,\"3381\":105,\"3390\":5523,\"3455\":1705,\"3456\":119,\"3464\":402,\"3513\":6406,\"3619\":2542,\"3621\":1190,\"3635\":460,\"3660\":1215,\"3684\":2700,\"3685\":933,\"3686\":2427,\"3687\":3197,\"3790\":294,\"3791\":147,\"3792\":93,\"3793\":127,\"3794\":185,\"3795\":87,\"3797\":346,\"3798\":523,\"3799\":374,\"3838\":163,\"3841\":149,\"4047\":10,\"4048\":32,\"4050\":11,\"4051\":15,\"4052\":13,\"4054\":6,\"4055\":17,\"4057\":20,\"4058\":26,\"4059\":63,\"4060\":75,\"4061\":158,\"4062\":53,\"\":6243},\"duration_minutes\":{\"1006\":27.6711409396,\"1007\":47.4236354532,\"1008\":29.792147806,\"2494\":41.6024163916,\"2495\":41.2510046704,\"2496\":47.8586762075,\"2497\":38.5195978534,\"2498\":37.9704154211,\"2499\":43.3455595177,\"2500\":39.4074074074,\"2501\":34.3848676221,\"2502\":46.8802447552,\"2503\":37.8020329138,\"2504\":40.7029846804,\"2536\":31.3562107298,\"2537\":41.5746183206,\"2538\":33.7630979499,\"2539\":41.4866995074,\"2540\":47.7348157982,\"2541\":36.3294339623,\"2542\":38.240360194,\"2544\":53.724667349,\"2545\":40.1236897275,\"2546\":29.6911262799,\"2547\":47.3894765392,\"2548\":44.3376189681,\"2549\":42.9247924792,\"2550\":37.8876482903,\"2552\":41.4755326621,\"2561\":48.7457912458,\"2562\":50.7711043454,\"2563\":41.5599688474,\"2564\":31.9346890888,\"2565\":48.270525792,\"2566\":44.4225455885,\"2567\":42.7093975315,\"2568\":37.6299595142,\"2569\":36.9197494033,\"2570\":38.127553389,\"2571\":44.3002411576,\"2572\":40.1960280605,\"2574\":44.4689686156,\"2575\":42.9287104513,\"2576\":35.1516095535,\"2707\":47.6350873122,\"2711\":42.3179220249,\"2712\":40.836523126,\"2822\":44.3441074092,\"2823\":51.0143712575,\"3291\":40.4453032105,\"3292\":37.5169102296,\"3293\":44.8049627792,\"3294\":59.593132154,\"3377\":48.6510400812,\"3381\":58.6285714286,\"3390\":51.8182147384,\"3455\":48.9196480938,\"3456\":38.8655462185,\"3464\":34.6616915423,\"3513\":46.0032781767,\"3619\":54.4543666404,\"3621\":43.6117647059,\"3635\":52.147826087,\"3660\":51.3646090535,\"3684\":44.8211111111,\"3685\":43.949624866,\"3686\":48.0984754841,\"3687\":45.9912417892,\"3790\":49.0238095238,\"3791\":44.6462585034,\"3792\":58.6129032258,\"3793\":72.8976377953,\"3794\":48.0810810811,\"3795\":48.8620689655,\"3797\":48.8265895954,\"3798\":45.3059273423,\"3799\":42.6096256684,\"3838\":60.4478527607,\"3841\":59.4362416107,\"4047\":110.8,\"4048\":65.9375,\"4050\":362.7272727273,\"4051\":74.2666666667,\"4052\":99.3846153846,\"4054\":24.8333333333,\"4055\":37.7058823529,\"4057\":24.9,\"4058\":17.7307692308,\"4059\":59.1111111111,\"4060\":70.5733333333,\"4061\":52.7721518987,\"4062\":43.1509433962,\"\":35.5942655774}}'"
      ]
     },
     "execution_count": 278,
     "metadata": {},
     "output_type": "execute_result"
    }
   ],
   "source": [
    "res.text"
   ]
  }
 ],
 "metadata": {
  "kernelspec": {
   "display_name": "phoenix_da",
   "language": "python",
   "name": "phoenix_da"
  },
  "language_info": {
   "codemirror_mode": {
    "name": "ipython",
    "version": 3
   },
   "file_extension": ".py",
   "mimetype": "text/x-python",
   "name": "python",
   "nbconvert_exporter": "python",
   "pygments_lexer": "ipython3",
   "version": "3.8.11"
  },
  "toc": {
   "base_numbering": 1,
   "nav_menu": {},
   "number_sections": true,
   "sideBar": true,
   "skip_h1_title": false,
   "title_cell": "Table of Contents",
   "title_sidebar": "Contents",
   "toc_cell": false,
   "toc_position": {},
   "toc_section_display": true,
   "toc_window_display": false
  },
  "toc-autonumbering": true
 },
 "nbformat": 4,
 "nbformat_minor": 5
}
